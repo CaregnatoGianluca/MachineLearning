{
 "cells": [
  {
   "cell_type": "markdown",
   "metadata": {},
   "source": [
    "#  Regression on Diamonds Price Dataset with SVM\n",
    "\n",
    "The **Diamonds dataset** from Kaggle is a dataset containing information about the physical and pricing attributes of nearly 54,000 diamonds. The dataset is commonly employed in tasks like regression analysis, feature engineering, and exploratory data analysis.\n",
    "\n",
    "We will consider a **reduced version** of the dataset, containing 4000 samples, and without categorical features.\n",
    "\n",
    "### Key Features:\n",
    "- **Carat**: The weight of the diamond.\n",
    "- **Depth**: The total depth percentage (z / mean(x, y)).\n",
    "- **Table**: Width of the diamond's top as a percentage of its widest point.\n",
    "- **Price**: Price in US dollars.\n",
    "- **X, Y, Z**: Dimensions of the diamond in mm (length, width, depth).\n",
    "\n",
    "This dataset is useful for exploring relationships between physical attributes and pricing, and for building predictive models to estimate diamond prices based on their features.\n",
    "\n",
    "For more information see: https://www.kaggle.com/datasets/shivam2503/diamonds."
   ]
  },
  {
   "cell_type": "markdown",
   "metadata": {},
   "source": [
    "# Overview\n",
    "\n",
    "In the notebook you will perform a complete pipeline of machine learning - regression task. First, you will:\n",
    "- split the data into training, validation, and test;\n",
    "- standardize the data.\n",
    "\n",
    "You will then be asked to learn various SVM models, in particular:\n",
    "- for each of the kernels *linear*, *poly*, *rbf*, and *sigmoid*, you will learn the best model, choosing among some fixed values of the considered hyperparameters. In particular, the choice of hyperparameters must be done with **5-fold cross-validation**, as we have seen in the labs.\n",
    "\n",
    "Then, from the models trained with the best hyperparameters selected as above, you will:\n",
    "- choose the best kernel, using a validation approach (not cross-validation), and\n",
    "- learn the best SVM model overall.\n",
    "\n",
    "Furthermore, you will then be asked to estimate the generalization error of the best SVM model you report. \n",
    "\n",
    "At the end, just for comparison, you will also be asked to learn a standard linear regression model (with squared loss), and estimate its generalization error.\n",
    "\n",
    "### IMPORTANT\n",
    "- Note that in each of the above steps you will have to choose the appropriate split of the data (see the first bullet point above);\n",
    "- The code should run without requiring modifications even if some best choice of parameters, changes; for example, you should not pass the best value of hyperparameters \"manually\" (i.e., passing the values as input parameters to the models). The only exception is in the TO DO titled 'ANSWER THE FOLLOWING'\n",
    "- $\\texttt{epsilon}$ parameter: For SVM, since the values to be predicted are all in the thousands of dollars, you will need to always set $\\texttt{epsilon} = 100$\n",
    "- Do not change the printing instructions (other than adding the correct variable name for your code), and do not add printing instructions!"
   ]
  },
  {
   "cell_type": "markdown",
   "metadata": {},
   "source": [
    "## TO DO - INSERT YOUR NUMERO DI MATRICOLA BELOW"
   ]
  },
  {
   "cell_type": "code",
   "metadata": {
    "tags": [],
    "ExecuteTime": {
     "end_time": "2024-12-03T15:35:02.527665Z",
     "start_time": "2024-12-03T15:35:02.522510Z"
    }
   },
   "source": [
    "# -- put here your ID number (numero di matricola)\n",
    "numero_di_matricola = 2157859 # COMPLETE"
   ],
   "outputs": [],
   "execution_count": 175
  },
  {
   "cell_type": "markdown",
   "metadata": {},
   "source": [
    "The following code loads all required packages"
   ]
  },
  {
   "cell_type": "code",
   "metadata": {
    "tags": [],
    "ExecuteTime": {
     "end_time": "2024-12-03T15:35:02.554153Z",
     "start_time": "2024-12-03T15:35:02.548459Z"
    }
   },
   "source": [
    "# -- import all packages needed\n",
    "import pandas as pd\n",
    "import numpy as np\n",
    "from sklearn.model_selection import train_test_split\n",
    "from sklearn import preprocessing\n",
    "from sklearn import svm\n",
    "from sklearn import model_selection\n",
    "from sklearn import linear_model\n",
    "from sklearn.model_selection import KFold\n",
    "from itertools import product"
   ],
   "outputs": [],
   "execution_count": 176
  },
  {
   "cell_type": "markdown",
   "metadata": {
    "tags": []
   },
   "source": [
    "The code below loads the data and remove samples with missing values. It also prints the number of samples and a brief description of our dataset."
   ]
  },
  {
   "cell_type": "code",
   "metadata": {
    "tags": [],
    "ExecuteTime": {
     "end_time": "2024-12-03T15:35:02.631030Z",
     "start_time": "2024-12-03T15:35:02.583275Z"
    }
   },
   "source": [
    "# -- load the data - do not change the path below!\n",
    "df = pd.read_csv('diamonds.csv', sep = ',')\n",
    "\n",
    "# -- remove the data samples with missing values (NaN)\n",
    "df = df.dropna()\n",
    "# -- let's drop the column containing the id of the data\n",
    "df = df.drop(columns=['Unnamed: 0'], axis=1)"
   ],
   "outputs": [],
   "execution_count": 177
  },
  {
   "cell_type": "code",
   "metadata": {
    "ExecuteTime": {
     "end_time": "2024-12-03T15:35:02.706926Z",
     "start_time": "2024-12-03T15:35:02.668220Z"
    }
   },
   "source": [
    "print('Dataset shape:', df.shape)\n",
    "# -- description of dataset\n",
    "print(df.describe())"
   ],
   "outputs": [
    {
     "name": "stdout",
     "output_type": "stream",
     "text": [
      "Dataset shape: (4000, 7)\n",
      "             carat        depth       table         price            x  \\\n",
      "count  4000.000000  4000.000000  4000.00000   4000.000000  4000.000000   \n",
      "mean      0.797945    61.776925    57.44035   3920.239250     5.735810   \n",
      "std       0.462251     1.468899     2.26052   3935.292841     1.106897   \n",
      "min       0.210000    52.200000    52.00000    339.000000     0.000000   \n",
      "25%       0.400000    61.100000    56.00000    936.000000     4.720000   \n",
      "50%       0.710000    61.900000    57.00000   2468.000000     5.710000   \n",
      "75%       1.050000    62.500000    59.00000   5297.500000     6.550000   \n",
      "max       3.010000    70.600000    79.00000  18730.000000     9.100000   \n",
      "\n",
      "                 y            z  \n",
      "count  4000.000000  4000.000000  \n",
      "mean      5.736307     3.540002  \n",
      "std       1.099129     0.691834  \n",
      "min       0.000000     0.000000  \n",
      "25%       4.730000     2.910000  \n",
      "50%       5.730000     3.540000  \n",
      "75%       6.550000     4.040000  \n",
      "max       8.970000     5.670000  \n"
     ]
    }
   ],
   "execution_count": 178
  },
  {
   "cell_type": "code",
   "metadata": {
    "ExecuteTime": {
     "end_time": "2024-12-03T15:35:02.773930Z",
     "start_time": "2024-12-03T15:35:02.763679Z"
    }
   },
   "source": [
    "print('First 5 samples of the dataset:\\n\\n', df.head(5))"
   ],
   "outputs": [
    {
     "name": "stdout",
     "output_type": "stream",
     "text": [
      "First 5 samples of the dataset:\n",
      "\n",
      "    carat  depth  table  price     x     y     z\n",
      "0   0.33   61.7   55.0    564  4.43  4.46  2.74\n",
      "1   1.20   62.1   57.0   5914  6.78  6.71  4.19\n",
      "2   0.62   61.0   57.0   2562  5.51  5.54  3.37\n",
      "3   0.34   63.1   56.0    537  4.41  4.46  2.80\n",
      "4   1.20   62.5   55.0   5964  6.77  6.84  4.25\n"
     ]
    }
   ],
   "execution_count": 179
  },
  {
   "cell_type": "markdown",
   "metadata": {},
   "source": [
    "In the following cell, we convert our (pandas) dataframe into set X (containing our features) and the set Y (containing our target, i.e., the price)"
   ]
  },
  {
   "cell_type": "code",
   "metadata": {
    "ExecuteTime": {
     "end_time": "2024-12-03T15:35:02.856471Z",
     "start_time": "2024-12-03T15:35:02.849266Z"
    }
   },
   "source": [
    "m = df.shape[0]\n",
    "\n",
    "# -- let's compute X and Y sets\n",
    "X = df.drop(columns=['price'], axis=1)\n",
    "Y = df['price']\n",
    "\n",
    "print(\"Total number of samples:\", m)\n",
    "\n",
    "X = X.values\n",
    "Y = Y.values\n",
    "\n",
    "# -- print shapes\n",
    "print('X shape: ', X.shape)\n",
    "print('Y shape: ', Y.shape)"
   ],
   "outputs": [
    {
     "name": "stdout",
     "output_type": "stream",
     "text": [
      "Total number of samples: 4000\n",
      "X shape:  (4000, 6)\n",
      "Y shape:  (4000,)\n"
     ]
    }
   ],
   "execution_count": 180
  },
  {
   "cell_type": "markdown",
   "metadata": {
    "tags": []
   },
   "source": [
    "# Data preprocessing"
   ]
  },
  {
   "cell_type": "markdown",
   "metadata": {},
   "source": [
    "## TO DO - SPLIT DATA INTO TRAINING, VALIDATION, AND TESTING, WITH THE FOLLOWING PERCENTAGES: 60%, 20%, 20%\n",
    "\n",
    "Use the $\\texttt{train\\_test\\_split}$ function from sklearn.model_selection to do it; in every call fix $\\texttt{random\\_state}$ to your numero_di_matricola. \n",
    "At the end, you should store the data in the following variables:\n",
    "- X_train, Y_train: training data;\n",
    "- X_val, Y_val: validation data;\n",
    "- X_train_val, Y_train_val: training and validation data;\n",
    "- X_test, Y_test: test data.\n",
    "\n",
    "The code then prints the number of samples in X_train, X_val, X_train_val, and X_test\n",
    "\n",
    "**IMPORTANT:**\n",
    "- first split the data into training+validation and test; the first part of the data in output from $\\texttt{train\\_test\\_split}$ must correspond to the training+validation;\n",
    "- then split training+validation into training and validation; the first part of the data in output from $\\texttt{train\\_test\\_split}$ must correspond to the training\n"
   ]
  },
  {
   "cell_type": "code",
   "metadata": {
    "tags": [],
    "ExecuteTime": {
     "end_time": "2024-12-03T15:35:02.930973Z",
     "start_time": "2024-12-03T15:35:02.911086Z"
    }
   },
   "source": [
    "# -- split the data into training + validation and test\n",
    "# -- TODO\n",
    "m_train = int(6/10 * m)\n",
    "m_val = (m - m_train) // 2\n",
    "m_test = m - m_train - m_val\n",
    "X_train_val, X_test, Y_train_val, Y_test = train_test_split(X, Y, test_size = m_test, random_state = numero_di_matricola)\n",
    "\n",
    "# -- split the training + validation data into training and validation\n",
    "# -- TODO\n",
    "\n",
    "X_train, X_val, Y_train, Y_val = train_test_split(X_train_val, Y_train_val, test_size = m_val, random_state = numero_di_matricola)\n",
    "\n",
    "print(\"Training size:\", X_train.shape[0])\n",
    "print(\"Validation size:\", X_val.shape[0])\n",
    "print(\"Training and validation size:\", X_train_val.shape[0])\n",
    "print(\"Test size:\", X_test.shape[0])"
   ],
   "outputs": [
    {
     "name": "stdout",
     "output_type": "stream",
     "text": [
      "Training size: 2400\n",
      "Validation size: 800\n",
      "Training and validation size: 3200\n",
      "Test size: 800\n"
     ]
    }
   ],
   "execution_count": 181
  },
  {
   "cell_type": "markdown",
   "metadata": {},
   "source": [
    "## TO DO - STANDARDIZE THE DATA\n",
    "\n",
    "Standardize the data using the $\\texttt{preprocessing.StandardScaler}$ from scikit learn.\n",
    "\n",
    "If V is the name of the variable storing part of the data, the corresponding standardized version should be stored in V_scaled. For example, the scaled version of X_train should be stored in X_train_scaled."
   ]
  },
  {
   "cell_type": "code",
   "metadata": {
    "tags": [],
    "ExecuteTime": {
     "end_time": "2024-12-03T15:35:03.010434Z",
     "start_time": "2024-12-03T15:35:03.000422Z"
    }
   },
   "source": [
    "# -- TODO\n",
    "scaler = preprocessing.StandardScaler().fit(X_train)\n",
    "X_train_scaled = scaler.transform(X_train)\n",
    "X_train_and_val_scaled = scaler.transform(X_train_val)\n",
    "X_val_scaled = scaler.transform(X_val)\n",
    "X_test_scaled = scaler.transform(X_test)"
   ],
   "outputs": [],
   "execution_count": 182
  },
  {
   "cell_type": "markdown",
   "metadata": {
    "tags": []
   },
   "source": [
    "# SVM models: learning the best model for each kernel"
   ]
  },
  {
   "cell_type": "markdown",
   "metadata": {},
   "source": [
    "The following function, i.e., $\\texttt{k\\_fold\\_cross\\_validation}$, will perform $k$-fold cross validation (with $k$ = 5 by default). Look carefully at the signature of the below function: you have in input some sets X and Y, the default number of folds, and a length-variable keyword argumens, with which the SVM model will be trained in the cross-validation phase. If you are not familiar with the notation, look at kwargs in Python documentation.\n",
    "\n",
    "In the first lines of the below function, the unpacked parameters (i.e., input parameter $\\texttt{param\\_grid}$) are converted into a python list by means of cartesian product. The resulting list (i.e., $\\texttt{param\\_list}$) will be the one for which you need to iterate over and perform $k$-fold cross-validation, using $\\texttt{KFold}$ object frmo scikit-learn.\n",
    "\n",
    "At the end, note that you need to return $\\texttt{best\\_param}$, that is the best set of parameters you found with the cross-validation procedure. "
   ]
  },
  {
   "cell_type": "code",
   "metadata": {
    "ExecuteTime": {
     "end_time": "2024-12-03T15:35:03.135865Z",
     "start_time": "2024-12-03T15:35:03.119834Z"
    }
   },
   "source": [
    "def k_fold_cross_validation(X, Y, num_folds = 5, **param_grid):\n",
    "\n",
    "    # -- grid of hyperparams into list\n",
    "    param_keys = list(param_grid.keys())\n",
    "    param_values = list(param_grid.values())\n",
    "    \n",
    "    # Generate Cartesian product of values\n",
    "    combinations = product(*param_values)\n",
    "    \n",
    "    # Create a list of dictionaries from combinations\n",
    "    param_list = [dict(zip(param_keys, combination)) for combination in combinations]\n",
    "\n",
    "    # -- TODO\n",
    "    kf = KFold(n_splits = num_folds, shuffle = True, random_state = numero_di_matricola)\n",
    "    best_param = None\n",
    "    best_score = -np.inf\n",
    "\n",
    "\n",
    "    # -- Iterate over all parameter combinations\n",
    "    kf = KFold(n_splits = num_folds, shuffle = True, random_state = numero_di_matricola)\n",
    "    best_param = None\n",
    "    best_score = np.inf\n",
    "\n",
    "    # -- Iterate over all parameter combinations\n",
    "    for params in param_list:\n",
    "        avg_err_val_kfold = 0\n",
    "\n",
    "        # -- Perform k-fold cross-validation\n",
    "        for train_index, validation_index in kf.split(X):\n",
    "            X_train_kfold, X_val_kfold = X[train_index], X[validation_index]\n",
    "            Y_train_kfold, Y_val_kfold = Y[train_index], Y[validation_index]\n",
    "\n",
    "            # -- data scaling: standardize features with respect to the current folds\n",
    "            scaler_kfold = preprocessing.StandardScaler().fit(X_train_kfold)\n",
    "            X_train_kfold_scaled = scaler_kfold.transform(X_train_kfold)\n",
    "            X_val_kfold_scaled = scaler_kfold.transform(X_val_kfold)\n",
    "\n",
    "            # -- learn the model using the training data from the k-fold\n",
    "            model_svm = svm.SVR(**params)\n",
    "            model_svm.fit(X_train_kfold_scaled, Y_train_kfold)\n",
    "\n",
    "            # -- incremental mean\n",
    "            avg_err_val_kfold += np.mean((Y_val_kfold - model_svm.predict(X_val_kfold_scaled)) ** 2)\n",
    "\n",
    "        # Calculate the average validation error for the current set of parameters\n",
    "        avg_err_val_kfold /= num_folds\n",
    "\n",
    "        # Update the best parameters if the current validation error is better\n",
    "        if avg_err_val_kfold < best_score:\n",
    "            best_score = avg_err_val_kfold\n",
    "            best_param = params\n",
    "\n",
    "    return best_param"
   ],
   "outputs": [],
   "execution_count": 183
  },
  {
   "cell_type": "markdown",
   "metadata": {},
   "source": [
    "## TO DO - CHOOSE THE BEST HYPERPARAMETERS FOR LINEAR KERNEL\n",
    "\n",
    "For the SVM, consider $\\texttt{svm.SVR}$ class. We will begin by training the SVM with linear kernel. For the latter, consider the following hyperparameters and their values:\n",
    "\n",
    "- $C: [0.1, 1, 10, 100, 1000]$\n",
    "\n",
    "Remember that both the $\\texttt{kernel}$ type and the value of $\\texttt{epsilon}$ are considered as parameters to pass to the above method. Leave all other input parameters to default. \n",
    "\n",
    "Find the best value of the hyperparameters using 5-fold cross validation. Use the function defined above to perform the cross-validation.\n",
    "\n",
    "Print the best value of the hyperparameters."
   ]
  },
  {
   "cell_type": "code",
   "metadata": {
    "ExecuteTime": {
     "end_time": "2024-12-03T15:35:09.037871Z",
     "start_time": "2024-12-03T15:35:03.172800Z"
    }
   },
   "source": [
    "print(\"\\nLinear SVM:\")\n",
    "best_params = k_fold_cross_validation(X_train_scaled, Y_train, C = [0.1, 1, 10, 100, 1000], kernel = ['linear'], epsilon = [100])\n",
    "print(\"Best value for hyperparameters: \", best_params)"
   ],
   "outputs": [
    {
     "name": "stdout",
     "output_type": "stream",
     "text": [
      "\n",
      "Linear SVM:\n",
      "Best value for hyperparameters:  {'C': 1000, 'kernel': 'linear', 'epsilon': 100}\n"
     ]
    }
   ],
   "execution_count": 184
  },
  {
   "cell_type": "markdown",
   "metadata": {},
   "source": [
    "## TO DO - LEARN A MODEL WITH LINEAR KERNEL AND BEST CHOICE OF HYPERPARAMETERS\n",
    "\n",
    "This model will be compared with the best models with other kernels using validation (not cross validation).\n",
    "\n",
    "DO NOT PASS PARAMETERS BY HARD-CODING THEM IN THE CODE.\n",
    "\n",
    "Print the **training score** (that is, $R^2$ coefficient) of the best model, trained with the best parameter find from the above cell."
   ]
  },
  {
   "cell_type": "code",
   "metadata": {
    "ExecuteTime": {
     "end_time": "2024-12-03T15:35:09.884875Z",
     "start_time": "2024-12-03T15:35:09.082740Z"
    }
   },
   "source": [
    "# -- TODO\n",
    "model_best = svm.SVR(**best_params)\n",
    "model_best.fit(X_train_scaled, Y_train)\n",
    "\n",
    "# -- Print training score\n",
    "print(\"Training score:\", model_best.score(X_train_scaled, Y_train))"
   ],
   "outputs": [
    {
     "name": "stdout",
     "output_type": "stream",
     "text": [
      "Training score: 0.8467767359123191\n"
     ]
    }
   ],
   "execution_count": 185
  },
  {
   "cell_type": "markdown",
   "metadata": {},
   "source": [
    "## TO DO - CHOOSE THE BEST HYPERPARAMETERS FOR POLY KERNEL\n",
    "\n",
    "Now, let's consider $\\texttt{svm.SVR}$ with polynomial kernel. Consider the following hyperparameters and their values:\n",
    "- $C: [0.1, 1, 10, 100, 1000]$\n",
    "- $degree: [2, 3, 4]$\n",
    "\n",
    "Leave all other input parameters to default. \n",
    "\n",
    "Find the best value of the hyperparameters using 5-fold cross validation. Use the function defined above to perform the cross-validation.\n",
    "\n",
    "Print the best value of the hyperparameters."
   ]
  },
  {
   "cell_type": "code",
   "metadata": {
    "tags": [],
    "ExecuteTime": {
     "end_time": "2024-12-03T15:35:27.164735Z",
     "start_time": "2024-12-03T15:35:09.944653Z"
    }
   },
   "source": [
    "print(\"\\nPoly SVM\")\n",
    "# -- TODO\n",
    "best_params_poly = k_fold_cross_validation(X_train_scaled, Y_train, C = [0.1, 1, 10, 100, 1000], kernel = ['poly'], degree = [2, 3, 4], epsilon = [100])\n",
    "print(\"Best value for hyperparameters: \", best_params_poly)\n"
   ],
   "outputs": [
    {
     "name": "stdout",
     "output_type": "stream",
     "text": [
      "\n",
      "Poly SVM\n",
      "Best value for hyperparameters:  {'C': 1000, 'kernel': 'poly', 'degree': 3, 'epsilon': 100}\n"
     ]
    }
   ],
   "execution_count": 186
  },
  {
   "cell_type": "markdown",
   "metadata": {
    "tags": []
   },
   "source": [
    "## TO DO - LEARN A MODEL WITH POLY KERNEL AND BEST CHOICE OF HYPERPARAMETERS\n",
    "\n",
    "This model will be compared with the best models with other kernels using validation (not cross validation).\n",
    "\n",
    "DO NOT PASS PARAMETERS BY HARD-CODING THEM IN THE CODE.\n",
    "\n",
    "Print the **training score** (that is, $R^2$ coefficient) of the best model, trained with the best parameter find from the above cell."
   ]
  },
  {
   "cell_type": "code",
   "metadata": {
    "tags": [],
    "ExecuteTime": {
     "end_time": "2024-12-03T15:35:27.860983Z",
     "start_time": "2024-12-03T15:35:27.205821Z"
    }
   },
   "source": [
    "# -- TODO\n",
    "model_best_poly = svm.SVR(**best_params_poly)\n",
    "model_best_poly.fit(X_train_scaled, Y_train)\n",
    "\n",
    "print(\"Training score:\", model_best_poly.score(X_train_scaled, Y_train))"
   ],
   "outputs": [
    {
     "name": "stdout",
     "output_type": "stream",
     "text": [
      "Training score: 0.7299445760157612\n"
     ]
    }
   ],
   "execution_count": 187
  },
  {
   "cell_type": "markdown",
   "metadata": {},
   "source": [
    "## TO DO - CHOOSE THE BEST HYPERPARAMETERS FOR RBF KERNEL\n",
    "\n",
    "Consider $\\texttt{svm.SVR}$ with RBF kernel. Consider the following hyperparameters and their values:\n",
    "- $C: [0.1, 1, 10, 100, 1000]$\n",
    "- $gamma: [0.01, 0.03, 0.04, 0.05]$\n",
    "\n",
    "Leave all other input parameters to default. \n",
    "\n",
    "Find the best value of the hyperparameters using 5-fold cross validation. Use the function defined above to perform the cross-validation.\n",
    "\n",
    "Print the best value of the hyperparameters."
   ]
  },
  {
   "cell_type": "code",
   "metadata": {
    "tags": [],
    "ExecuteTime": {
     "end_time": "2024-12-03T15:35:57.194421Z",
     "start_time": "2024-12-03T15:35:27.912925Z"
    }
   },
   "source": [
    "print(\"\\nRBF SVM\")\n",
    "# -- TODO\n",
    "best_params_rbf = k_fold_cross_validation(X_train_scaled, Y_train, C = [0.1, 1, 10, 100, 1000], kernel = ['rbf'], gamma = [0.01, 0.03, 0.04, 0.05], epsilon = [100])\n",
    "print(\"Best value for hyperparameters: \", best_params_rbf)"
   ],
   "outputs": [
    {
     "name": "stdout",
     "output_type": "stream",
     "text": [
      "\n",
      "RBF SVM\n",
      "Best value for hyperparameters:  {'C': 1000, 'kernel': 'rbf', 'gamma': 0.05, 'epsilon': 100}\n"
     ]
    }
   ],
   "execution_count": 188
  },
  {
   "cell_type": "markdown",
   "metadata": {},
   "source": [
    "## TO DO - LEARN A MODEL WITH RBF KERNEL AND BEST CHOICE OF HYPERPARAMETERS\n",
    "\n",
    "This model will be compared with the best models with other kernels using validation (not cross validation).\n",
    "\n",
    "DO NOT PASS PARAMETERS BY HARD-CODING THEM IN THE CODE.\n",
    "\n",
    "Print the **training score** (that is, $R^2$ coefficient) of the best model, trained with the best parameter find from the above cell."
   ]
  },
  {
   "cell_type": "code",
   "metadata": {
    "tags": [],
    "ExecuteTime": {
     "end_time": "2024-12-03T15:35:58.033329Z",
     "start_time": "2024-12-03T15:35:57.222916Z"
    }
   },
   "source": [
    "# -- TODO\n",
    "model_best_rbf = svm.SVR(**best_params_rbf)\n",
    "model_best_rbf.fit(X_train_scaled, Y_train)\n",
    "\n",
    "# -- Print training score for RBF kernel\n",
    "print(\"Training score for RBF kernel:\", model_best_rbf.score(X_train_scaled, Y_train))\n"
   ],
   "outputs": [
    {
     "name": "stdout",
     "output_type": "stream",
     "text": [
      "Training score for RBF kernel: 0.8695019181586625\n"
     ]
    }
   ],
   "execution_count": 189
  },
  {
   "cell_type": "markdown",
   "metadata": {
    "tags": []
   },
   "source": [
    "## TO DO - CHOOSE THE BEST HYPERPARAMETERS FOR SIGMOID KERNEL\n",
    "\n",
    "Consider $\\texttt{svm.SVR}$ with sigmoid kernel. Consider the following hyperparameters and their values:\n",
    "- $C: [0.1, 1, 10, 100, 1000]$\n",
    "- $gamma: [0.01, 0.05, 0.1]$\n",
    "- $coef0: [0, 1]$\n",
    "\n",
    "Leave all other input parameters to default. \n",
    "\n",
    "Find the best value of the hyperparameters using 5-fold cross validation. Use the function defined above to perform the cross-validation.\n",
    "\n",
    "Print the best value of the hyperparameters."
   ]
  },
  {
   "cell_type": "code",
   "metadata": {
    "tags": [],
    "ExecuteTime": {
     "end_time": "2024-12-03T15:36:54.614806Z",
     "start_time": "2024-12-03T15:35:58.066697Z"
    }
   },
   "source": [
    "print(\"\\nSigmoid SVM\")\n",
    "# -- TODO\n",
    "best_params_sigmoid = k_fold_cross_validation(X_train_scaled, Y_train, C = [0.1, 1, 10, 100, 1000], kernel = ['sigmoid'], gamma = [0.01, 0.05, 0.1], coef0 = [0, 1], epsilon = [100])\n",
    "print(\"Best value for hyperparameters: \", best_params_sigmoid)"
   ],
   "outputs": [
    {
     "name": "stdout",
     "output_type": "stream",
     "text": [
      "\n",
      "Sigmoid SVM\n",
      "Best value for hyperparameters:  {'C': 1000, 'kernel': 'sigmoid', 'gamma': 0.01, 'coef0': 0, 'epsilon': 100}\n"
     ]
    }
   ],
   "execution_count": 190
  },
  {
   "cell_type": "markdown",
   "metadata": {
    "tags": []
   },
   "source": [
    "## TO DO - LEARN A MODEL WITH SIGMOID KERNEL AND BEST CHOICE OF HYPERPARAMETERS\n",
    "\n",
    "This model will be compared with the best models with other kernels using validation (not cross validation).\n",
    "\n",
    "DO NOT PASS PARAMETERS BY HARD-CODING THEM IN THE CODE.\n",
    "\n",
    "Print the **training score** (that is, $R^2$ coefficient) of the best model, trained with the best parameter find from the above cell."
   ]
  },
  {
   "cell_type": "code",
   "metadata": {
    "tags": [],
    "ExecuteTime": {
     "end_time": "2024-12-03T15:36:55.208086Z",
     "start_time": "2024-12-03T15:36:54.644808Z"
    }
   },
   "source": [
    "# -- TODO\n",
    "model_best_sigmoid = svm.SVR(**best_params_sigmoid)\n",
    "model_best_sigmoid.fit(X_train_scaled, Y_train)\n",
    "\n",
    "print(\"Training score:\", model_best_sigmoid.score(X_train_scaled, Y_train))"
   ],
   "outputs": [
    {
     "name": "stdout",
     "output_type": "stream",
     "text": [
      "Training score: 0.7866701507258702\n"
     ]
    }
   ],
   "execution_count": 191
  },
  {
   "cell_type": "markdown",
   "metadata": {
    "tags": []
   },
   "source": [
    "## TO DO - USE VALIDATION TO CHOOSE THE BEST MODEL AMONG THE ONES LEARNED FOR THE VARIOUS KERNELS\n",
    "\n",
    "Use validation to choose the best model among the four ones (one for each kernel) you have learned above.\n",
    "\n",
    "Print, following exactly the order described here, with 1 value for each line:\n",
    "- the validation score of SVM with linear kernel (the template below does not include such print)\n",
    "- the validation score of SVM with polynomial kernel (the template below does not include such print)\n",
    "- the validation score of SVM with rbf kernel (the template below does not include such print)\n",
    "- the validation score of SVM with sigmoid kernel (the template below does not include such print)\n",
    "- the best kernel (e.g., sigmoid) \n",
    "- the validation score of the best kernel \n",
    "\n",
    "For the first 4 prints, use the format: \"*kernel* validation score: \". For example, for linear kernel \"linear validation score: \", for rbf \"rbf validation score: \""
   ]
  },
  {
   "cell_type": "code",
   "metadata": {
    "tags": [],
    "ExecuteTime": {
     "end_time": "2024-12-03T15:36:55.515136Z",
     "start_time": "2024-12-03T15:36:55.254633Z"
    }
   },
   "source": [
    "linear_validation_score = model_best.score(X_val_scaled, Y_val)\n",
    "poly_validation_score = model_best_poly.score(X_val_scaled, Y_val)\n",
    "rbf_validation_score = model_best_rbf.score(X_val_scaled, Y_val)\n",
    "sigmoid_validation_score = model_best_sigmoid.score(X_val_scaled, Y_val)\n",
    "\n",
    "print(\"linear validation score:\", linear_validation_score)\n",
    "print(\"poly validation score:\", poly_validation_score)\n",
    "print(\"rbf validation score:\", rbf_validation_score)\n",
    "print(\"sigmoid validation score:\", sigmoid_validation_score)\n",
    "\n",
    "# Determine the best kernel based on validation score\n",
    "validation_scores = {\n",
    "    'linear': linear_validation_score,\n",
    "    'poly': poly_validation_score,\n",
    "    'rbf': rbf_validation_score,\n",
    "    'sigmoid': sigmoid_validation_score\n",
    "}\n",
    "\n",
    "best_kernel = max(validation_scores, key = validation_scores.get)\n",
    "best_validation_score = validation_scores[best_kernel]\n",
    "\n",
    "print(\"\\n---\\nBest kernel: \", best_kernel)\n",
    "print(\"Validation score of best kernel: \", best_validation_score)"
   ],
   "outputs": [
    {
     "name": "stdout",
     "output_type": "stream",
     "text": [
      "linear validation score: 0.8340038435319138\n",
      "poly validation score: 0.6739967936547583\n",
      "rbf validation score: 0.8576716951240756\n",
      "sigmoid validation score: 0.7764457934325616\n",
      "\n",
      "---\n",
      "Best kernel:  rbf\n",
      "Validation score of best kernel:  0.8576716951240756\n"
     ]
    }
   ],
   "execution_count": 192
  },
  {
   "cell_type": "markdown",
   "metadata": {},
   "source": [
    "## TO DO - LEARN THE FINAL MODEL FOR WHICH YOU WANT TO ESTIMATE THE GENERALIZATION SCORE\n",
    "\n",
    "Learn the final model (i.e., the one you would use to make predictions about future data).\n",
    "\n",
    "Print the **final model hyperparameters** and the **score** of the model on the data used to learn it."
   ]
  },
  {
   "cell_type": "code",
   "metadata": {
    "tags": [],
    "ExecuteTime": {
     "end_time": "2024-12-03T15:36:57.131296Z",
     "start_time": "2024-12-03T15:36:55.546039Z"
    }
   },
   "source": [
    "print(\"\\nBEST MODEL:\")\n",
    "\n",
    "# -- TODO\n",
    "if best_kernel == 'linear':\n",
    "    best_params_final = best_params\n",
    "elif best_kernel == 'poly':\n",
    "    best_params_final = best_params_poly\n",
    "elif best_kernel == 'rbf':\n",
    "    best_params_final = best_params_rbf\n",
    "elif best_kernel == 'sigmoid':\n",
    "    best_params_final = best_params_sigmoid\n",
    "else:\n",
    "    print(\"Error\")\n",
    "\n",
    "model_final = svm.SVR(**best_params_final)\n",
    "model_final.fit(X_train_and_val_scaled, Y_train_val)\n",
    "\n",
    "print(\"Best model hyperparameters:\", best_params_final)\n",
    "print(\"Score of the best model on the data used to learn it: \", model_final.score(X_train_and_val_scaled, Y_train_val))\n",
    "\n"
   ],
   "outputs": [
    {
     "name": "stdout",
     "output_type": "stream",
     "text": [
      "\n",
      "BEST MODEL:\n",
      "Best model hyperparameters: {'C': 1000, 'kernel': 'rbf', 'gamma': 0.05, 'epsilon': 100}\n",
      "Score of the best model on the data used to learn it:  0.8674623563628789\n"
     ]
    }
   ],
   "execution_count": 193
  },
  {
   "cell_type": "markdown",
   "metadata": {
    "tags": []
   },
   "source": [
    "## TO DO - PRINT THE ESTIMATE  OF THE GENERALIZATION SCORE FOR THE FINAL MODEL\n",
    "\n",
    "Print the estimate of the generalization **score** for the final model. The generalization \"score\" is the score computed on the data used to estimate the generalization error."
   ]
  },
  {
   "cell_type": "code",
   "metadata": {
    "tags": [],
    "ExecuteTime": {
     "end_time": "2024-12-03T15:36:57.498128Z",
     "start_time": "2024-12-03T15:36:57.160279Z"
    }
   },
   "source": [
    "print(\"\\nGENERALIZATION SCORE BEST MODEL:\")\n",
    "\n",
    "# -- TODO\n",
    "generalization_score = model_final.score(X_test_scaled, Y_test)\n",
    "print(\"Estimate of the generalization score for best SVM model: \", generalization_score)\n"
   ],
   "outputs": [
    {
     "name": "stdout",
     "output_type": "stream",
     "text": [
      "\n",
      "GENERALIZATION SCORE BEST MODEL:\n",
      "Estimate of the generalization score for best SVM model:  0.8559160007103882\n"
     ]
    }
   ],
   "execution_count": 194
  },
  {
   "cell_type": "markdown",
   "metadata": {
    "tags": []
   },
   "source": [
    "## TO DO - ANSWER THE FOLLOWING\n",
    "\n",
    "Print the **training score** (score on data used to train the model) and the **generalization score** (score on data used to assess generalization) of the final SVM model THAT YOU OBTAIN WHEN YOU RUN THE CODE, one per line, printing the smallest one first. \n",
    "\n",
    "NOTE: THE VALUES HERE SHOULD BE HARDCODED.\n",
    "\n",
    "Print you answer (YES/NO) to the following question: does the relation (i.e., smaller, larger) between the training score and the generalization score agree with the theory?\n",
    "\n",
    "Print your motivation for the YES/NO answer above, using at most 500 characters."
   ]
  },
  {
   "cell_type": "code",
   "metadata": {
    "tags": [],
    "ExecuteTime": {
     "end_time": "2024-12-03T15:36:58.489026Z",
     "start_time": "2024-12-03T15:36:57.545582Z"
    }
   },
   "source": [
    "print(\"\\nANSWER\")\n",
    "\n",
    "# -- TODO\n",
    "\n",
    "# -- note that you may have to invert the order of the following 2 lines, print the smallest 1 first\n",
    "training_score = model_final.score(X_train_scaled, Y_train)\n",
    "if generalization_score < training_score:\n",
    "    print(\"Generalization score: \", generalization_score)\n",
    "    print(\"Training score: \", training_score)\n",
    "else:\n",
    "    print(\"Training score: \", training_score)\n",
    "    print(\"Generalization score: \", generalization_score)\n",
    "\n",
    "# -- the following is a string with you answer\n",
    "motivation = \"YES, the training score is usually higher than the generalization score because the model is fitted to the training data, resulting in potentially higher performance on it compared to unseen data.\"\n",
    "\n",
    "\n",
    "print(motivation)"
   ],
   "outputs": [
    {
     "name": "stdout",
     "output_type": "stream",
     "text": [
      "\n",
      "ANSWER\n",
      "Generalization score:  0.8559160007103882\n",
      "Training score:  0.869555501744629\n",
      "YES, the training score is usually higher than the generalization score because the model is fitted to the training data, resulting in potentially higher performance on it compared to unseen data.\n"
     ]
    }
   ],
   "execution_count": 195
  },
  {
   "cell_type": "markdown",
   "metadata": {
    "tags": []
   },
   "source": [
    "## TO DO: LEARN A STANDARD LINEAR MODEL\n",
    "Learn a standard linear model using scikit learn.\n",
    "\n",
    "Print the **score** of the model on the data used to learn it.\n",
    "\n",
    "Print the **generalization score** of the model."
   ]
  },
  {
   "cell_type": "code",
   "metadata": {
    "ExecuteTime": {
     "end_time": "2024-12-03T15:37:07.244044Z",
     "start_time": "2024-12-03T15:37:07.211955Z"
    }
   },
   "source": [
    "print(\"\\nLR MODEL\")\n",
    "# -- TODO\n",
    "linear_model_lr = linear_model.LinearRegression()\n",
    "linear_model_lr.fit(X_train_and_val_scaled, Y_train_val)\n",
    "\n",
    "training_score_lr = linear_model_lr.score(X_train_and_val_scaled, Y_train_val)\n",
    "generalization_score_lr = linear_model_lr.score(X_test_scaled, Y_test)\n",
    "\n",
    "print(\"Score of LR model on data used to learn it: \", training_score_lr)\n",
    "print(\"Generalization score of LR model: \", generalization_score_lr)"
   ],
   "outputs": [
    {
     "name": "stdout",
     "output_type": "stream",
     "text": [
      "\n",
      "LR MODEL\n",
      "Score of LR model on data used to learn it:  0.8538431563737285\n",
      "Generalization score of LR model:  0.8453558343913702\n"
     ]
    }
   ],
   "execution_count": 197
  }
 ],
 "metadata": {
  "anaconda-cloud": {},
  "celltoolbar": "Raw Cell Format",
  "kernelspec": {
   "display_name": "Python 3 (ipykernel)",
   "language": "python",
   "name": "python3"
  },
  "language_info": {
   "codemirror_mode": {
    "name": "ipython",
    "version": 3
   },
   "file_extension": ".py",
   "mimetype": "text/x-python",
   "name": "python",
   "nbconvert_exporter": "python",
   "pygments_lexer": "ipython3",
   "version": "3.10.0"
  }
 },
 "nbformat": 4,
 "nbformat_minor": 4
}
