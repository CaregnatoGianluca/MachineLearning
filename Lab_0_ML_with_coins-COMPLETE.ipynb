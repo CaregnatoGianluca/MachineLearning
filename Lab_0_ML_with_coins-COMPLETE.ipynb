{
 "cells": [
  {
   "cell_type": "markdown",
   "metadata": {
    "id": "_vyQgXehjAuU"
   },
   "source": [
    "# 1. Relative Frequency, Chebyshev's inequality and Chernoff bound"
   ]
  },
  {
   "cell_type": "markdown",
   "metadata": {
    "id": "wZgXkXwMdc6e"
   },
   "source": [
    "We first need to import the libraries that we are going to use in this notebook.\n",
    "\n",
    "1. The *numpy* Python library is used for mathematical functions, such as our random number generators;\n",
    "2. The *matplotlib* Python library is used to plot graphics and visualize data;\n",
    "3. The *ipywidgets* library, for animations and widgets. \n",
    "   "
   ]
  },
  {
   "cell_type": "code",
   "execution_count": 1,
   "metadata": {},
   "outputs": [],
   "source": [
    "# NOTE: if you are in labs at DEI, open this notebook with jupyter-notebook (NOT jupyter-lab), due to outdated versions."
   ]
  },
  {
   "cell_type": "code",
   "execution_count": 2,
   "metadata": {},
   "outputs": [
    {
     "name": "stdout",
     "output_type": "stream",
     "text": [
      "Note: you may need to restart the kernel to use updated packages.\n"
     ]
    }
   ],
   "source": [
    "# Imports widgets for JupyterLite\n",
    "%pip install -q ipywidgets"
   ]
  },
  {
   "cell_type": "code",
   "execution_count": 3,
   "metadata": {
    "id": "akFUx57VnWWE",
    "tags": []
   },
   "outputs": [],
   "source": [
    "import numpy as np\n",
    "import matplotlib.pyplot as plt\n",
    "import ipywidgets as widgets\n",
    "from ipywidgets import interact, widgets, fixed\n",
    "from IPython.display import display\n",
    "\n",
    "random_seed = 1\n",
    "np.random.seed(random_seed)"
   ]
  },
  {
   "cell_type": "markdown",
   "metadata": {
    "id": "TTaiJyOR6UGC"
   },
   "source": [
    "Let's define our Bernoulli variable $X_j$ simulating the flip of the $j$-th coin:\n",
    "\n",
    "$$\n",
    "X_j =\n",
    "\\begin{cases}\n",
    "1 & \\text{if H with probability $p$} \\\\\n",
    "0 & \\text{if T}\n",
    "\\end{cases}\n",
    "$$\n",
    "\n",
    "We know that in a Bernoulli random variable we have that:\n",
    "\n",
    "\n",
    "*   $\\mathbb{E} \\left[ X_j \\right] = p$, and\n",
    "*   $\\mathbb{Var} \\left[ X_j \\right] = p (1 - p)$.\n",
    "\n",
    "\n",
    "\n",
    "\n",
    "\n"
   ]
  },
  {
   "cell_type": "code",
   "execution_count": 4,
   "metadata": {
    "id": "qcJQVc4lifia",
    "tags": []
   },
   "outputs": [],
   "source": [
    "# -- function that simulates a coin flipping (Bernoulli variable)\n",
    "#print(np.random.rand())\n",
    "def coin_flip(p):\n",
    "  if np.random.rand() < p: # np.random.rand() give us a number betwin 0 and 1\n",
    "    # HEAD\n",
    "    return 1\n",
    "  else:\n",
    "    # TAIL\n",
    "    return 0"
   ]
  },
  {
   "cell_type": "markdown",
   "metadata": {
    "id": "0hGtmKnyj30K"
   },
   "source": [
    "## Relative Frequency"
   ]
  },
  {
   "cell_type": "markdown",
   "metadata": {
    "id": "kblfGpQG8Dpv"
   },
   "source": [
    "Of course, we do not know beforehand the coin's probability, but we would like to estimate it based on data observations.\n",
    "\n",
    "Now, let's try to estimate the probability $p$ by computing the <u>relative frequency</u> simulating the flip of our coin for $n = 10000$ times.\n",
    "\n",
    "We want to compute and plot the estimated probability for each of such flip:\n",
    "\n",
    "\\begin{equation}\n",
    "  \\tilde{p_i} = \\sum_{j=1}^{i} \\frac{X_j}{i}\n",
    "\\end{equation}\n",
    "\n",
    "for $i = 1, ..., n$\n",
    "\n",
    "Note that $\\tilde{p_i}$ is the sample mean computed observing samples up to the $i$-th flip."
   ]
  },
  {
   "cell_type": "code",
   "execution_count": 5,
   "metadata": {
    "id": "R-j3slZPfqYy",
    "tags": []
   },
   "outputs": [],
   "source": [
    "# -- let's set our parameters\n",
    "n_flips = 10000 # number of flips\n",
    "p = np.random.rand()"
   ]
  },
  {
   "cell_type": "code",
   "execution_count": 6,
   "metadata": {
    "id": "EpOuCj9X8D_y",
    "tags": []
   },
   "outputs": [],
   "source": [
    "def estimate_probability(n_flips, p):\n",
    "\n",
    "    estimated_p = np.zeros(n_flips) #it creates an array with 10000 zeros\n",
    "    head_count = 0\n",
    "    \n",
    "    for i in range(1, n_flips+1):\n",
    "        head_count += coin_flip(p)\n",
    "        # -- relative frequency\n",
    "        estimated_p[i - 1] = head_count/i\n",
    "    \n",
    "    return estimated_p"
   ]
  },
  {
   "cell_type": "markdown",
   "metadata": {
    "id": "8kHQeRI1_MD_"
   },
   "source": [
    "Now, let's plot the estimated probability for each flip"
   ]
  },
  {
   "cell_type": "code",
   "execution_count": 7,
   "metadata": {
    "colab": {
     "base_uri": "https://localhost:8080/",
     "height": 473
    },
    "id": "p2jEGn9Iqre2",
    "outputId": "b7229f00-31c3-467b-eaed-b6b0c76790aa",
    "tags": []
   },
   "outputs": [],
   "source": [
    "def plot_estimated_probability(n_flips, p):\n",
    "    \n",
    "    # we seed the code in order to obtain the same sequence of flips\n",
    "    np.random.seed(random_seed)\n",
    "    estimated_p = estimate_probability(n_flips, p)\n",
    "\n",
    "    plt.plot(estimated_p, color = 'b', label='Estimated probability')\n",
    "    \n",
    "    # plot true value\n",
    "    plt.axhline(y=p, color='r', linestyle='--', label='True probability')\n",
    "    plt.ylim(0, 1)\n",
    "    \n",
    "    plt.xlabel('Number of flips')\n",
    "    x_range = range(0, n_flips, max(1, int(n_flips/5)))\n",
    "    plt.xticks(x_range, labels = [1 + x for x in x_range])\n",
    "    plt.ylabel('Estimated probability')\n",
    "    plt.legend()"
   ]
  },
  {
   "cell_type": "code",
   "execution_count": 8,
   "metadata": {},
   "outputs": [],
   "source": [
    "n_flips_slider = widgets.IntSlider(\n",
    "    value=1,\n",
    "    min=1,\n",
    "    max=n_flips,\n",
    "    description='n_flips',\n",
    "    step=1\n",
    ")"
   ]
  },
  {
   "cell_type": "code",
   "execution_count": 9,
   "metadata": {},
   "outputs": [
    {
     "data": {
      "application/vnd.jupyter.widget-view+json": {
       "model_id": "1a52fcd7e5fe4472812163de4d593b59",
       "version_major": 2,
       "version_minor": 0
      },
      "text/plain": [
       "interactive(children=(IntSlider(value=1, description='n_flips', max=10000, min=1), Output()), _dom_classes=('w…"
      ]
     },
     "metadata": {},
     "output_type": "display_data"
    }
   ],
   "source": [
    "interact(plot_estimated_probability, n_flips = n_flips_slider, p = fixed(p));"
   ]
  },
  {
   "cell_type": "markdown",
   "metadata": {
    "id": "BbC2Hjbj7nRA"
   },
   "source": [
    "## Law of Large Numbers\n",
    "\n",
    "From the plots above, we can also see the validiy of the Law of Large Numbers, that states:\n",
    "\n",
    "\\begin{equation}\n",
    "  \\lim_{n\\to\\infty} \\mathbb{P} \\left[  \\big| \\frac{1}{n} \\sum_{i = 1}^n X_i - \\mu \\big| > \\varepsilon \\right] = 0.\n",
    "\\end{equation}\n",
    "\n",
    "---"
   ]
  },
  {
   "cell_type": "code",
   "execution_count": 10,
   "metadata": {},
   "outputs": [],
   "source": [
    "## use whiteboard"
   ]
  },
  {
   "cell_type": "markdown",
   "metadata": {
    "id": "ww511XaW_7Tm"
   },
   "source": [
    "Next, we want to compute the mean and the variance of our random variable $\\tilde{p_n}$, that we recall is defined as:\n",
    "\n",
    "\\begin{equation}\n",
    "  \\tilde{p}_n = \\sum_{j = 1}^{n} \\frac{X_j}{n}\n",
    "\\end{equation}\n",
    "\n",
    "So, we have that the expected value at the end of our $n$ flips is:\n",
    "\n",
    "\\begin{align}\n",
    "  \\mathbb{E}\\left[\\tilde{p}_n\\right] &= \\mathbb{E} \\left[ \\sum_{j = 1}^{n} \\frac{X_j}{n} \\right] = \\frac{1}{n} \\ \\mathbb{E} \\left[ \\sum_{j = 1}^{n} X_j \\right] = \\\\\n",
    "  & = \\frac{1}{n} \\ \\sum_{j = 1}^{n} \\ \\mathbb{E} \\left[ X_j \\right] = \\frac{1}{n} \\ \\sum_{j = 1}^{n} \\ p = p\n",
    "\\end{align}\n",
    "\n",
    "and the variance is computed as:\n",
    "\n",
    "\\begin{align}\n",
    "  \\mathbb{Var} \\left[\\tilde{p}_n\\right] &= \\mathbb{Var} \\left[ \\sum_{j = 1}^{n} \\frac{X_j}{n} \\right] = \\frac{1}{n^2} \\ \\mathbb{Var} \\left[ \\sum_{j = 1}^{n} X_j \\right] = \\\\\n",
    "  & = \\frac{1}{n^2} \\ \\sum_{j = 1}^{n} \\ \\mathbb{Var} \\left[ X_j \\right] = \\frac{1}{n^2} \\ n \\ \\mathbb{Var} \\left[ X_j \\right] = \\frac{p (1 - p)}{n}\n",
    "\\end{align}"
   ]
  },
  {
   "cell_type": "markdown",
   "metadata": {
    "id": "TUdtGdNBjlKo"
   },
   "source": [
    "Let's see if the above is true by computing the empirical mean and variance."
   ]
  },
  {
   "cell_type": "code",
   "execution_count": 11,
   "metadata": {
    "colab": {
     "base_uri": "https://localhost:8080/"
    },
    "id": "eXMCzeNWMkZN",
    "outputId": "b21adde2-45b3-4cc0-a116-2a6180d8a66e",
    "tags": []
   },
   "outputs": [
    {
     "name": "stdout",
     "output_type": "stream",
     "text": [
      "True mean =  0.417022004702574\n",
      "True variance =  2.4311465229642033e-05\n",
      "Sample Mean =  0.41263620883862934\n",
      "Sample Variance =  0.00017689688551273587\n"
     ]
    }
   ],
   "source": [
    "# let's see if the true value of p matches the estimated one\n",
    "# -- true mean\n",
    "print('True mean = ', p)\n",
    "\n",
    "# -- true variance\n",
    "print('True variance = ', p*(1-p)/n_flips)\n",
    "\n",
    "# let's recompute the same sequence of n_flips flips\n",
    "np.random.seed(random_seed)\n",
    "estimated_p = estimate_probability(n_flips, p)\n",
    "# -- sample mean\n",
    "\n",
    "X_mean = sum(estimated_p)/n_flips\n",
    "print('Sample Mean = ', X_mean)\n",
    "\n",
    "# -- sample variance\n",
    "X_var = (sum((estimated_p - X_mean)**2))/(n_flips - 1) # Bessel's correction\n",
    "print('Sample Variance = ', X_var)"
   ]
  },
  {
   "cell_type": "markdown",
   "metadata": {
    "id": "k9dj4qYej7S5"
   },
   "source": [
    "## Chebyshev's inequality\n",
    "\n",
    "As you have seen during the lectures, given a random variable $X$ with $\\mathbb{E}\\left[X\\right] = \\mu$ and $\\mathbb{Var}\\left[X\\right] = \\sigma^2$, and a fixed constant $\\varepsilon > 0 $, the Chebyshev's inequality states:\n",
    "\n",
    "\\begin{equation}\n",
    "  \\mathbb{P}\\left[ \\left| X - \\mu \\right| > \\varepsilon \\right] \\leq \\frac{\\sigma^2}{\\varepsilon^2}\n",
    "\\end{equation}\n",
    "\n",
    "In our example, we want to plot the Chebyshev bounds given by the above inequality for the estimated probability in each of our coin flips.\n",
    "\n",
    "So, if we let:\n",
    "\n",
    "  * $X = \\tilde{p_i}$\n",
    "  * $\\mu = \\mathbb{E}\\left[ \\tilde{p_i} \\right] = p$\n",
    "  * $\\sigma_i^2 = \\mathbb{Var}\\left[ \\tilde{p_i} \\right] = \\frac{p (1 - p)}{i}$\n",
    "  * $\\varepsilon = \\varepsilon\\mu$\n",
    "\n",
    "we obtain:\n",
    "\n",
    "\\begin{equation}\n",
    "  \\mathbb{P}\\left[ | \\tilde{p_i} - p | > \\varepsilon p \\right] \\leq \\frac{p (1 - p)}{i \\varepsilon^2 p^2}\n",
    "\\end{equation}\n"
   ]
  },
  {
   "cell_type": "markdown",
   "metadata": {
    "id": "XsaSI1cbqfhM"
   },
   "source": [
    "\n",
    "Let's compute and plot the probability bounds of being far from the true mean, for each of our $\\tilde{p_i}$ random variables, $i = 1, ..., n$.\n",
    "\n",
    "Let's fix the right-hand-side of the above inequality, by letting $\\delta = \\frac{p (1 - p)}{i \\varepsilon^2 p^2} = 0.05$, that corresponds to the probability of obtaining \"bad\" estimates. We need to compute the distance from the mean (i.e., $\\varepsilon p$) for each flip $i$, that is:\n",
    "\n",
    "\\begin{equation}\n",
    "  \\varepsilon p = \\sqrt{\\frac{p(1 - p)}{\\delta i}}\n",
    "\\end{equation}"
   ]
  },
  {
   "cell_type": "code",
   "execution_count": 12,
   "metadata": {
    "colab": {
     "base_uri": "https://localhost:8080/",
     "height": 473
    },
    "id": "gANpJklOn7zN",
    "outputId": "2adfa0e2-baa8-4f88-a590-78165c3fadfc",
    "tags": []
   },
   "outputs": [],
   "source": [
    "def plot_chebyshev_bounds(delta, estimated_p, n_flips, p):\n",
    "\n",
    "    flips = np.array([i for i in range(1, n_flips+1)])\n",
    "    \n",
    "    \n",
    "    plt.plot(estimated_p, color = 'b', label='Estimated probability')\n",
    "    # -- plot true value\n",
    "    plt.axhline(y = p, color = 'r', linestyle = '--', label='True probability')\n",
    "    \n",
    "    # -- Chebyshev's bounds: we compute the p * epsilon for each flip\n",
    "    chebyshev_values = np.sqrt((p * (1 - p)) / (flips * delta))\n",
    "    plt.plot(p + chebyshev_values, color = 'g', linestyle='--')\n",
    "    plt.plot(p - chebyshev_values, color = 'g', linestyle='--', label=f'Chebyshev bounds with delta={round(delta, 3)}')\n",
    "    plt.ylim(0, 1)\n",
    "    \n",
    "    \n",
    "    plt.xlabel('Number of flips')\n",
    "    plt.ylabel('Estimated probability')\n",
    "    plt.legend()"
   ]
  },
  {
   "cell_type": "markdown",
   "metadata": {
    "id": "eH60mONbtndL"
   },
   "source": [
    "Try with different values of $\\delta$, that reflect the probability of optaining good approximation."
   ]
  },
  {
   "cell_type": "code",
   "execution_count": 13,
   "metadata": {},
   "outputs": [],
   "source": [
    "delta_slider = widgets.FloatSlider(\n",
    "    value=0.005,\n",
    "    min=0.001,\n",
    "    max=1.0,\n",
    "    description='delta',\n",
    "    step=0.005\n",
    ")"
   ]
  },
  {
   "cell_type": "code",
   "execution_count": 14,
   "metadata": {},
   "outputs": [
    {
     "data": {
      "image/png": "[encoded data removed]",
      "text/plain": [
       "<Figure size 640x480 with 1 Axes>"
      ]
     },
     "metadata": {},
     "output_type": "display_data"
    }
   ],
   "source": [
    "#interact(plot_chebyshev_bounds, delta = delta_slider, estimated_p = fixed(estimated_p), n_flips = fixed(n_flips), p = fixed(p));\n",
    "delta = 0.01\n",
    "plot_chebyshev_bounds(delta, estimated_p, n_flips, p)"
   ]
  },
  {
   "cell_type": "markdown",
   "metadata": {
    "id": "C3D65mKRj-uc"
   },
   "source": [
    "## Chernoff bound\n",
    "\n",
    "Now, we are going to analyze a more precise tool for the approximation guarantees: the Chernoff's bound (you will use it in the next lectures).\n"
   ]
  },
  {
   "cell_type": "markdown",
   "metadata": {
    "id": "EF1of5cJz4KI"
   },
   "source": [
    "\n",
    "\n",
    "**Chernoff's bound:**\n",
    "Given a random variable $X = \\sum_{i=1}^n X_i$, written as a sum of Bernoulli random variables $X_i$ with $\\mu = \\mathbb{E} \\left[X \\right]$, and a small constant $\\varepsilon \\in (0, 1)$, we have that:\n",
    "\n",
    "\\begin{equation}\n",
    "  \\mathbb{P}\\left[ \\left| X - \\mu \\right| > \\varepsilon \\mu \\right] \\leq 2 e^{-\\frac{\\varepsilon^2 \\mu}{3}}\n",
    "\\end{equation}\n",
    "\n",
    "In our example, we need to rearrange the variables. In particular, we want (as done for the Chebyshev's bounds) to compute the following approximation:\n",
    "\n",
    "\\begin{align}\n",
    "  & \\mathbb{P}\\left[ | \\tilde{p_i} - p | > \\varepsilon p \\right] \\\\\n",
    "  & = \\mathbb{P}\\left[ \\big | \\sum_{j=1}^i \\frac{X_j}{i} - p \\ \\big | > \\varepsilon p \\right] \\\\\n",
    "  & = \\mathbb{P}\\left[ \\big | \\sum_{j=1}^i X_j - p \\ i \\ \\big | > \\varepsilon p \\ i \\right] \\\\\n",
    "  & \\leq 2 e^{-\\varepsilon^2 p\\ i / 3}\n",
    "\\end{align}\n",
    "\n",
    "Also in this case, let's fix $\\delta = 2 e^{\\varepsilon^2 p\\ i / 3} = 0.05$, the probability of optaining \"bad\" estimates.\n",
    "\n"
   ]
  },
  {
   "cell_type": "markdown",
   "metadata": {
    "id": "ot89px0g4CEY"
   },
   "source": [
    "We can similarly plot the Chernoff's bounds by computing the distances from the true mean (i.e., $\\varepsilon p$ as defined in the above) for each coin flip."
   ]
  },
  {
   "cell_type": "code",
   "execution_count": 15,
   "metadata": {
    "colab": {
     "base_uri": "https://localhost:8080/",
     "height": 473
    },
    "id": "dO0sOH844_N9",
    "outputId": "c13ebd86-4d4d-4aef-f342-ce3b4a2e5d9a",
    "tags": []
   },
   "outputs": [],
   "source": [
    "def plot_chernoff_bound(delta, estimated_p, n_flips, p):\n",
    "\n",
    "    flips = np.array([i for i in range(1, n_flips+1)])\n",
    "    plt.plot(estimated_p, color = 'b', label='Estimated probability')\n",
    "    # plot true value\n",
    "    plt.axhline(y = p, color = 'r', linestyle = '--', label='True probability')\n",
    "    \n",
    "    plt.ylim(0, 1)\n",
    "    \n",
    "    # -- Chernoff's bounds: let's compute the p * epsilon values\n",
    "    chernoff_values = np.sqrt(((np.log(2/delta)) * 3 * p) / flips)\n",
    "    plt.plot(p + chernoff_values, color = 'k', linestyle='--')\n",
    "    plt.plot(p - chernoff_values, color = 'k', linestyle='--', label=f'Chernoff bounds with delta={round(delta, 3)}')\n",
    "    \n",
    "    \n",
    "    plt.xlabel('Number of flips')\n",
    "    plt.ylabel('Estimated probability')\n",
    "    plt.legend()"
   ]
  },
  {
   "cell_type": "code",
   "execution_count": 16,
   "metadata": {},
   "outputs": [
    {
     "data": {
      "application/vnd.jupyter.widget-view+json": {
       "model_id": "a95bf66a3fec4f4f82993d1d4670a6e1",
       "version_major": 2,
       "version_minor": 0
      },
      "text/plain": [
       "interactive(children=(FloatSlider(value=0.005, description='delta', max=1.0, min=0.001, step=0.005), Output())…"
      ]
     },
     "metadata": {},
     "output_type": "display_data"
    }
   ],
   "source": [
    "interact(plot_chernoff_bound, delta = delta_slider, estimated_p = fixed(estimated_p), n_flips = fixed(n_flips), p = fixed(p));"
   ]
  },
  {
   "cell_type": "markdown",
   "metadata": {
    "id": "TWVErdY-467T"
   },
   "source": [
    "Let's compare Chebyshev's and Chernoff's bounds"
   ]
  },
  {
   "cell_type": "code",
   "execution_count": 17,
   "metadata": {
    "colab": {
     "base_uri": "https://localhost:8080/",
     "height": 473
    },
    "id": "JCr06vUGgJYX",
    "outputId": "11482118-3212-43f1-bada-de36c882a608",
    "tags": []
   },
   "outputs": [],
   "source": [
    "def plot_chebyshev_and_chernoff_bound(delta, estimated_p, n_flips, p):\n",
    "\n",
    "    flips = np.array([i for i in range(1, n_flips+1)])\n",
    "\n",
    "    plt.plot(estimated_p, color = 'b', label='Estimated probability')\n",
    "    # plot true value\n",
    "    plt.axhline(y = p, color = 'r', linestyle = '--', label='True probability')\n",
    "    \n",
    "    plt.ylim(0, 1)\n",
    "    \n",
    "    # -- Chebyshev's bounds\n",
    "    chebyshev_values = np.sqrt((p * (1 - p)) / (flips * delta))\n",
    "    plt.plot(p + chebyshev_values, color = 'g', linestyle='--')\n",
    "    plt.plot(p - chebyshev_values, color = 'g', linestyle='--', label=f'Chebyshev bounds with delta={round(delta, 3)}')\n",
    "    \n",
    "    # -- Chernoff's bounds\n",
    "    chernoff_values = np.sqrt(np.abs((np.log(delta/2)) * p * 3)/flips)\n",
    "    plt.plot(p + chernoff_values, color = 'k', linestyle='--')\n",
    "    plt.plot(p - chernoff_values, color = 'k', linestyle='--', label=f'Chernoff bounds with delta={round(delta, 3)}')\n",
    "    \n",
    "    \n",
    "    plt.xlabel('Number of flips')\n",
    "    plt.ylabel('Estimated probability')\n",
    "    plt.legend()"
   ]
  },
  {
   "cell_type": "code",
   "execution_count": 18,
   "metadata": {},
   "outputs": [
    {
     "data": {
      "application/vnd.jupyter.widget-view+json": {
       "model_id": "645929cb1b1c43e3b752d409ff9cf14e",
       "version_major": 2,
       "version_minor": 0
      },
      "text/plain": [
       "interactive(children=(FloatSlider(value=0.005, description='delta', max=1.0, min=0.001, step=0.005), Output())…"
      ]
     },
     "metadata": {},
     "output_type": "display_data"
    }
   ],
   "source": [
    "interact(plot_chebyshev_and_chernoff_bound, delta = delta_slider, estimated_p = fixed(estimated_p), n_flips = fixed(n_flips), p = fixed(p));"
   ]
  },
  {
   "cell_type": "markdown",
   "metadata": {
    "id": "6WzeqsG9jf2x"
   },
   "source": [
    "# 2. Coin flipping: a Machine Learning case study\n",
    "\n",
    "We will now exploit the concepts we have introduced to build a simplified Machine Learning case study starting from simple coin flippings. We will consider a coin $c$ as an hypothesis $h$ belonging to our hypothesis set $H$. Each coin $c$ will have an associated probability error $p^{(c)}$, which, as before, is not known in advance.\n",
    "\n",
    "Our aim is to find the coin $c^*$ that has the smallest error probability $p^{(c)}$ (over all $c$), i.e., the coin that flips head with the smallest probability.\n",
    "<br><br>\n",
    "To do so, we could empirically count the number of heads in a series of $n$ flips. In other words, we are trying to find the coin which **minimizes the number of heads** over such $n$ flips. Let $\\tilde{p}_n^{(c)}$ be the estimated head probability of the $c$-th coin after $n$ flips. We define our training error by means of the $0-1$ loss function as:\n",
    "\n",
    "\\begin{equation}\n",
    "L(c) = \\tilde{p}_n^{(c)}\n",
    "\\end{equation}\n",
    "\n",
    "which penalizes coins that are more likely to flip head, that is indeed what we are looking for. We will select our best coin $c^*$ (hypothesis) from $H$ by means of the Empirical Risk Minimization (ERM) procedure:\n",
    "\n",
    "\\begin{equation}\n",
    "c^* = ERM_H \\in argmin_{\\ c \\ \\in \\ H} \\ L(c)\n",
    "\\end{equation}"
   ]
  },
  {
   "cell_type": "markdown",
   "metadata": {
    "id": "td-KXNi6kY_z"
   },
   "source": [
    "## Empirical Risk Minimization"
   ]
  },
  {
   "cell_type": "markdown",
   "metadata": {
    "id": "7E6NN2OKjrK-"
   },
   "source": [
    "Let us first define the ERM procedure, given an initial amount of coins (*n_coins*) and the total number of flips $n$ (*n_flips*). We want to obtain in output the coin that minimizes our loss function, which in our case corresponds to the coin with the lowest rate of heads. We will include an additional parameter (*top_k*) to allow the ERM to output the top $k$ best hypotheses found in our hypothesis set $H$. Note that this is not usually feasible in real Machine Learning problems, but we study such scenario for the sake of the example."
   ]
  },
  {
   "cell_type": "code",
   "execution_count": 19,
   "metadata": {
    "id": "51GyW_qtjvz0",
    "tags": []
   },
   "outputs": [],
   "source": [
    "# -- function that implements the ERM procedure and returns the top-K best hypotheses\n",
    "def ERM(coins_list, n_flips, top_k = 1):\n",
    "\n",
    "    loss = np.zeros(len(coins_list))\n",
    "    \n",
    "    for i, coin in enumerate(coins_list):\n",
    "        loss[i] = estimate_probability(n_flips, coin)[n_flips - 1]\n",
    "    \n",
    "    indexes = np.argsort(loss)\n",
    "    coins_list = np.array(coins_list)\n",
    "    \n",
    "    return loss[indexes[:top_k]], coins_list[indexes[:top_k]]"
   ]
  },
  {
   "cell_type": "markdown",
   "metadata": {
    "id": "fYpq4mFHkeYt"
   },
   "source": [
    "## A first experiment"
   ]
  },
  {
   "cell_type": "markdown",
   "metadata": {},
   "source": [
    "We first perform an experiment to assess the role of the cardinality of our hypotheses set $H$ (that is, the set of our randomly generated coins). In particular, we would like to understand how the training loss (i.e., the coin that flips head the lowest) varies when considering a different amount of hypotheses (i.e., coins). Note that the number of **flips** $n$ (*n_flips* in the code) can be seen as the total amount of **training samples** we are using to estimate the performance of our coins."
   ]
  },
  {
   "cell_type": "code",
   "execution_count": 20,
   "metadata": {
    "colab": {
     "base_uri": "https://localhost:8080/",
     "height": 467
    },
    "id": "i5CvrbuvkBFa",
    "outputId": "8ca60ca3-2e81-428e-f70d-598d39874f25",
    "tags": []
   },
   "outputs": [
    {
     "data": {
      "image/png": "[encoded data removed]",
      "text/plain": [
       "<Figure size 640x480 with 1 Axes>"
      ]
     },
     "metadata": {},
     "output_type": "display_data"
    }
   ],
   "source": [
    "max_coins = 20\n",
    "n_flips = 5000\n",
    "\n",
    "coins_list = [np.random.rand() for _ in range(max_coins)]\n",
    "losses = np.zeros(max_coins)\n",
    "\n",
    "for i in range(1, max_coins+1):\n",
    "    # -- we seed the code for reproducing the same sequence of flips\n",
    "    np.random.seed(random_seed)\n",
    "    loss, h = ERM(coins_list[:i], n_flips = n_flips)\n",
    "    losses[i - 1] = loss[0]\n",
    "\n",
    "plt.plot(losses);\n",
    "plt.xlabel('Number of coins');\n",
    "plt.xticks([0, 4, 9, 14, 19], [1, 5, 10, 15, 20]);\n",
    "plt.ylabel('Training loss');"
   ]
  },
  {
   "cell_type": "markdown",
   "metadata": {
    "id": "3kvqk-5MLXeM"
   },
   "source": [
    "From the plot above we can see that, when we increase the amount of coins (that is, a larger hypothesis set $H$) we have a higher chance to find better coins that perform well on the training set. Recall, however, that we are interested in obtaining a coin that is sufficiently good also on the test set. In the next section, we will try to see if the best coin we obtain with the ERM procedure is actually good also on the test flips.\n",
    "\n",
    "---"
   ]
  },
  {
   "cell_type": "markdown",
   "metadata": {
    "id": "SZoy3BSJjytn"
   },
   "source": [
    "We now perform additional flips to access the generalization error of our coin and see how it behaves. We first try with very few training and test samples to get a first insight."
   ]
  },
  {
   "cell_type": "code",
   "execution_count": 21,
   "metadata": {
    "colab": {
     "base_uri": "https://localhost:8080/"
    },
    "id": "UiqXgQZdj2zO",
    "outputId": "0133d4c1-fa26-4d61-c4d5-0c8d5899d3d5",
    "tags": []
   },
   "outputs": [
    {
     "name": "stdout",
     "output_type": "stream",
     "text": [
      "True coin error probability 0.1257153005937821\n",
      "Train loss 0.0 , Test loss 0.2\n"
     ]
    }
   ],
   "source": [
    "max_coins = 10\n",
    "n_flips = 5\n",
    "\n",
    "# let's generate a list of random flips\n",
    "coins_list = [np.random.rand() for _ in range(max_coins)]\n",
    "\n",
    "# we considered the best coin  (k = 1)\n",
    "loss, h = ERM(coins_list, n_flips)\n",
    "\n",
    "print(\"True coin error probability\", h[0])\n",
    "\n",
    "n_test_flips = 5\n",
    "test_loss = 0.0\n",
    "\n",
    "# estimate of the probability through coin flips\n",
    "for i in range(n_test_flips):\n",
    "  test_loss += coin_flip(h)\n",
    "\n",
    "test_loss = test_loss / n_test_flips\n",
    "print(\"Train loss\", loss[0], \", Test loss\", test_loss)"
   ]
  },
  {
   "cell_type": "markdown",
   "metadata": {
    "id": "-eVFYjsKj8Wo"
   },
   "source": [
    "Because of the small amount of flips we have made, the ERM procedure selects a coin that actually performs poorly in the test flips. This is due to the fact that we have selected our coin according to a small amount of training samples (i.e. flips), which does not allow to collect a meaningful measure of our coin's performance.\n"
   ]
  },
  {
   "cell_type": "markdown",
   "metadata": {
    "id": "mRcbg7h4kn0t"
   },
   "source": [
    "## Generalization error"
   ]
  },
  {
   "cell_type": "markdown",
   "metadata": {
    "id": "rXCwD8LJkD9L"
   },
   "source": [
    "We finally try to collect an estimate on the generalization error of our best coin by executing additional flips, that is we want we add more test samples. \n",
    "\n",
    "Note that here we may have two possible outcomes:\n",
    "\n",
    "1. The coin returned by the ERM obtains the lowest generalization error among all the coins we have considered, and we have succeded;\n",
    "2. There is another coin (not usually considered by the ERM) that has a lower generalization error than the best coin: we are in an overfitting scenario. Indeed, the training set of the coin returned by the ERM may be not representative of the true distribution we are considering."
   ]
  },
  {
   "cell_type": "code",
   "execution_count": 22,
   "metadata": {
    "colab": {
     "base_uri": "https://localhost:8080/"
    },
    "id": "Uc6rAVhlkI11",
    "outputId": "728bb7c8-83e7-4fdf-8001-0a65489146a2",
    "tags": []
   },
   "outputs": [
    {
     "name": "stdout",
     "output_type": "stream",
     "text": [
      "True probability of the 1 top-k coin 0.0742\n",
      "True probability of the 2 top-k coin 0.11555\n",
      "True probability of the 3 top-k coin 0.11336\n",
      "The coin returned by ERM is actually the best, with a test loss of 0.09\n"
     ]
    }
   ],
   "source": [
    "max_coins = 10\n",
    "coins_list = [np.random.rand() for _ in range(max_coins)]\n",
    "\n",
    "# -- k = 3: we select the three best coins according to ERM\n",
    "top_k = 3\n",
    "loss_k, h_k = ERM(coins_list, n_flips = 1000, top_k = top_k)\n",
    "\n",
    "# -- compute test losses\n",
    "n_test_flips = 100\n",
    "test_losses = np.zeros(top_k)\n",
    "\n",
    "for i in range(top_k):\n",
    "  print(\"True probability of the\", i+1, \"top-k coin\", round(h_k[i], 5))\n",
    "  for j in range(n_test_flips):\n",
    "    test_losses[i] += coin_flip(h_k[i])\n",
    "\n",
    "test_losses = test_losses / n_test_flips\n",
    "\n",
    "if test_losses[0] == np.min(test_losses): #ERM hypothesis actually has the lowest generalization error\n",
    "  print(\"The coin returned by ERM is actually the best, with a test loss of\", test_losses[0])\n",
    "else: #ERM hypothesis is not the best: we are in an overfitting scenario\n",
    "  print(\"The\", (np.argsort(test_losses)[0] + 1), \"coin - with probability\", round(h_k[np.argsort(test_losses)[0]], 5),\n",
    "        \"- was found to be better in the test set, with a test loss of\", test_losses[np.argsort(test_losses)[0]],\n",
    "        \"( best coin loss is\", test_losses[0], \")\")"
   ]
  },
  {
   "cell_type": "code",
   "execution_count": null,
   "metadata": {},
   "outputs": [],
   "source": []
  }
 ],
 "metadata": {
  "colab": {
   "provenance": []
  },
  "kernelspec": {
   "display_name": "Python 3 (ipykernel)",
   "language": "python",
   "name": "python3"
  },
  "language_info": {
   "codemirror_mode": {
    "name": "ipython",
    "version": 3
   },
   "file_extension": ".py",
   "mimetype": "text/x-python",
   "name": "python",
   "nbconvert_exporter": "python",
   "pygments_lexer": "ipython3",
   "version": "3.12.6"
  }
 },
 "nbformat": 4,
 "nbformat_minor": 4
}
