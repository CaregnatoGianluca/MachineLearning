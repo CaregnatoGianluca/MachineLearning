{
 "cells": [
  {
   "cell_type": "markdown",
   "metadata": {},
   "source": [
    "# Linear Models for Classification: Wine Dataset\n",
    "\n",
    "## IMPORTANT: make sure to rerun all the code from the beginning to obtain the results for the final version of your notebook (this is the way we will do it for evaluating your HWs!)\n",
    "\n",
    "### Dataset description\n",
    "\n",
    "We will be working with a dataset on wines from the UCI machine learning repository\n",
    "(http://archive.ics.uci.edu/ml/datasets/Wine). It contains data for 178 instances. \n",
    "The dataset is the results of a chemical analysis of wines grown in the same region\n",
    "in Italy but derived from three different cultivars. The analysis determined the\n",
    "quantities of 13 constituents found in each of the three types of wines. \n",
    "\n",
    "### The features in the dataset are:\n",
    "\n",
    "- Alcohol\n",
    "- Malic acid\n",
    "- Ash\n",
    "- Alcalinity of ash\n",
    "- Magnesium\n",
    "- Total phenols\n",
    "- Flavanoids\n",
    "- Nonflavanoid phenols\n",
    "- Proanthocyanins\n",
    "- Color intensity\n",
    "- Hue\n",
    "- OD280/OD315 of diluted wines\n",
    "-Proline\n",
    "\n"
   ]
  },
  {
   "cell_type": "markdown",
   "metadata": {},
   "source": [
    "Hence, the task is to perform a <u>classification</u> to decide from which cultivar the given wine has been grown"
   ]
  },
  {
   "cell_type": "markdown",
   "metadata": {},
   "source": [
    "We first import the dataset we are going to use."
   ]
  },
  {
   "cell_type": "code",
   "metadata": {
    "tags": [],
    "ExecuteTime": {
     "end_time": "2024-11-26T08:32:17.021425Z",
     "start_time": "2024-11-26T08:32:16.993323Z"
    }
   },
   "source": [
    "# -- let's import the sklearn library\n",
    "import sklearn\n",
    "\n",
    "# -- let's print out the version of scikit-learn\n",
    "print(sklearn.__version__)\n",
    "\n",
    "# -- this imports the datasets module, which has useful datasets\n",
    "from sklearn import datasets\n",
    "\n",
    "# -- Load the dataset from scikit learn\n",
    "wine = datasets.load_wine()"
   ],
   "outputs": [
    {
     "name": "stdout",
     "output_type": "stream",
     "text": [
      "1.5.2\n"
     ]
    }
   ],
   "execution_count": 6
  },
  {
   "cell_type": "markdown",
   "metadata": {},
   "source": [
    "Let's check out the description of the dataset from the scikit learn documentation: https://scikit-learn.org/0.23/modules/classes.html#module-sklearn.datasets\n",
    "\n",
    "(**Note**: we are considering the scikit-learn version that is installed in the labs Te and Ue, but there are more recent ones)\n",
    "\n",
    "Now let's understand a little bit the data."
   ]
  },
  {
   "cell_type": "code",
   "metadata": {
    "tags": [],
    "ExecuteTime": {
     "end_time": "2024-11-26T08:32:17.072074Z",
     "start_time": "2024-11-26T08:32:17.052436Z"
    }
   },
   "source": [
    "# -- let's print the dimension of the data matrix\n",
    "print('Wine dataset shape:\\n', wine.data.shape)\n",
    "\n",
    "# -- let's print the features names\n",
    "print('Feature names:\\n', wine.feature_names)\n",
    "\n",
    "# -- let's print the data matrix\n",
    "print('Data:\\n', wine.data)\n",
    "\n",
    "# -- let's print the targets names\n",
    "print('Target names:\\n', wine.target_names)\n",
    "\n",
    "# --let's print the target (labels)\n",
    "print('Labels:\\n', wine.target)\n",
    "\n",
    "# -- let's print the description of the dataset\n",
    "print('Dataset description:\\n', wine.DESCR)"
   ],
   "outputs": [
    {
     "name": "stdout",
     "output_type": "stream",
     "text": [
      "Wine dataset shape:\n",
      " (178, 13)\n",
      "Feature names:\n",
      " ['alcohol', 'malic_acid', 'ash', 'alcalinity_of_ash', 'magnesium', 'total_phenols', 'flavanoids', 'nonflavanoid_phenols', 'proanthocyanins', 'color_intensity', 'hue', 'od280/od315_of_diluted_wines', 'proline']\n",
      "Data:\n",
      " [[1.423e+01 1.710e+00 2.430e+00 ... 1.040e+00 3.920e+00 1.065e+03]\n",
      " [1.320e+01 1.780e+00 2.140e+00 ... 1.050e+00 3.400e+00 1.050e+03]\n",
      " [1.316e+01 2.360e+00 2.670e+00 ... 1.030e+00 3.170e+00 1.185e+03]\n",
      " ...\n",
      " [1.327e+01 4.280e+00 2.260e+00 ... 5.900e-01 1.560e+00 8.350e+02]\n",
      " [1.317e+01 2.590e+00 2.370e+00 ... 6.000e-01 1.620e+00 8.400e+02]\n",
      " [1.413e+01 4.100e+00 2.740e+00 ... 6.100e-01 1.600e+00 5.600e+02]]\n",
      "Target names:\n",
      " ['class_0' 'class_1' 'class_2']\n",
      "Labels:\n",
      " [0 0 0 0 0 0 0 0 0 0 0 0 0 0 0 0 0 0 0 0 0 0 0 0 0 0 0 0 0 0 0 0 0 0 0 0 0\n",
      " 0 0 0 0 0 0 0 0 0 0 0 0 0 0 0 0 0 0 0 0 0 0 1 1 1 1 1 1 1 1 1 1 1 1 1 1 1\n",
      " 1 1 1 1 1 1 1 1 1 1 1 1 1 1 1 1 1 1 1 1 1 1 1 1 1 1 1 1 1 1 1 1 1 1 1 1 1\n",
      " 1 1 1 1 1 1 1 1 1 1 1 1 1 1 1 1 1 1 1 2 2 2 2 2 2 2 2 2 2 2 2 2 2 2 2 2 2\n",
      " 2 2 2 2 2 2 2 2 2 2 2 2 2 2 2 2 2 2 2 2 2 2 2 2 2 2 2 2 2 2]\n",
      "Dataset description:\n",
      " .. _wine_dataset:\n",
      "\n",
      "Wine recognition dataset\n",
      "------------------------\n",
      "\n",
      "**Data Set Characteristics:**\n",
      "\n",
      ":Number of Instances: 178\n",
      ":Number of Attributes: 13 numeric, predictive attributes and the class\n",
      ":Attribute Information:\n",
      "    - Alcohol\n",
      "    - Malic acid\n",
      "    - Ash\n",
      "    - Alcalinity of ash\n",
      "    - Magnesium\n",
      "    - Total phenols\n",
      "    - Flavanoids\n",
      "    - Nonflavanoid phenols\n",
      "    - Proanthocyanins\n",
      "    - Color intensity\n",
      "    - Hue\n",
      "    - OD280/OD315 of diluted wines\n",
      "    - Proline\n",
      "    - class:\n",
      "        - class_0\n",
      "        - class_1\n",
      "        - class_2\n",
      "\n",
      ":Summary Statistics:\n",
      "\n",
      "============================= ==== ===== ======= =====\n",
      "                                Min   Max   Mean     SD\n",
      "============================= ==== ===== ======= =====\n",
      "Alcohol:                      11.0  14.8    13.0   0.8\n",
      "Malic Acid:                   0.74  5.80    2.34  1.12\n",
      "Ash:                          1.36  3.23    2.36  0.27\n",
      "Alcalinity of Ash:            10.6  30.0    19.5   3.3\n",
      "Magnesium:                    70.0 162.0    99.7  14.3\n",
      "Total Phenols:                0.98  3.88    2.29  0.63\n",
      "Flavanoids:                   0.34  5.08    2.03  1.00\n",
      "Nonflavanoid Phenols:         0.13  0.66    0.36  0.12\n",
      "Proanthocyanins:              0.41  3.58    1.59  0.57\n",
      "Colour Intensity:              1.3  13.0     5.1   2.3\n",
      "Hue:                          0.48  1.71    0.96  0.23\n",
      "OD280/OD315 of diluted wines: 1.27  4.00    2.61  0.71\n",
      "Proline:                       278  1680     746   315\n",
      "============================= ==== ===== ======= =====\n",
      "\n",
      ":Missing Attribute Values: None\n",
      ":Class Distribution: class_0 (59), class_1 (71), class_2 (48)\n",
      ":Creator: R.A. Fisher\n",
      ":Donor: Michael Marshall (MARSHALL%PLU@io.arc.nasa.gov)\n",
      ":Date: July, 1988\n",
      "\n",
      "This is a copy of UCI ML Wine recognition datasets.\n",
      "https://archive.ics.uci.edu/ml/machine-learning-databases/wine/wine.data\n",
      "\n",
      "The data is the results of a chemical analysis of wines grown in the same\n",
      "region in Italy by three different cultivators. There are thirteen different\n",
      "measurements taken for different constituents found in the three types of\n",
      "wine.\n",
      "\n",
      "Original Owners:\n",
      "\n",
      "Forina, M. et al, PARVUS -\n",
      "An Extendible Package for Data Exploration, Classification and Correlation.\n",
      "Institute of Pharmaceutical and Food Analysis and Technologies,\n",
      "Via Brigata Salerno, 16147 Genoa, Italy.\n",
      "\n",
      "Citation:\n",
      "\n",
      "Lichman, M. (2013). UCI Machine Learning Repository\n",
      "[https://archive.ics.uci.edu/ml]. Irvine, CA: University of California,\n",
      "School of Information and Computer Science.\n",
      "\n",
      ".. dropdown:: References\n",
      "\n",
      "    (1) S. Aeberhard, D. Coomans and O. de Vel,\n",
      "    Comparison of Classifiers in High Dimensional Settings,\n",
      "    Tech. Rep. no. 92-02, (1992), Dept. of Computer Science and Dept. of\n",
      "    Mathematics and Statistics, James Cook University of North Queensland.\n",
      "    (Also submitted to Technometrics).\n",
      "\n",
      "    The data was used with many others for comparing various\n",
      "    classifiers. The classes are separable, though only RDA\n",
      "    has achieved 100% correct classification.\n",
      "    (RDA : 100%, QDA 99.4%, LDA 98.9%, 1NN 96.1% (z-transformed data))\n",
      "    (All results using the leave-one-out technique)\n",
      "\n",
      "    (2) S. Aeberhard, D. Coomans and O. de Vel,\n",
      "    \"THE CLASSIFICATION PERFORMANCE OF RDA\"\n",
      "    Tech. Rep. no. 92-01, (1992), Dept. of Computer Science and Dept. of\n",
      "    Mathematics and Statistics, James Cook University of North Queensland.\n",
      "    (Also submitted to Journal of Chemometrics).\n",
      "\n"
     ]
    }
   ],
   "execution_count": 7
  },
  {
   "cell_type": "markdown",
   "metadata": {},
   "source": [
    "There are three different classes of cultivars (represented with labels 0, 1, and 2).\n",
    "\n",
    "To simplify a bit the problem (and the presentation), we are going to consider a **binary classification** task. In particular, we are going to classify class \"1\" vs the other two classes (0 and 2), that we denote as \"-1\". \n",
    "\n",
    "Thus, we need to re-label the other classes (0 and 2) as \"-1\".\n",
    "\n",
    "For convenience, let's save the instances (vectors of features) in matrix $\\mathbf{X}$ and the targets into a vector $\\mathbf{Y}$."
   ]
  },
  {
   "cell_type": "code",
   "metadata": {
    "scrolled": true,
    "tags": [],
    "ExecuteTime": {
     "end_time": "2024-11-26T08:32:17.140899Z",
     "start_time": "2024-11-26T08:32:17.128955Z"
    }
   },
   "source": [
    "X = wine.data\n",
    "Y = wine.target\n",
    "\n",
    "# -- let's print out the matrix of instances and the vector of targets, just to make sure that everything looks ok\n",
    "print(\"Matrix of instances:\")\n",
    "print(X)\n",
    "\n",
    "print(\"Vector of labels:\")\n",
    "print(Y)"
   ],
   "outputs": [
    {
     "name": "stdout",
     "output_type": "stream",
     "text": [
      "Matrix of instances:\n",
      "[[1.423e+01 1.710e+00 2.430e+00 ... 1.040e+00 3.920e+00 1.065e+03]\n",
      " [1.320e+01 1.780e+00 2.140e+00 ... 1.050e+00 3.400e+00 1.050e+03]\n",
      " [1.316e+01 2.360e+00 2.670e+00 ... 1.030e+00 3.170e+00 1.185e+03]\n",
      " ...\n",
      " [1.327e+01 4.280e+00 2.260e+00 ... 5.900e-01 1.560e+00 8.350e+02]\n",
      " [1.317e+01 2.590e+00 2.370e+00 ... 6.000e-01 1.620e+00 8.400e+02]\n",
      " [1.413e+01 4.100e+00 2.740e+00 ... 6.100e-01 1.600e+00 5.600e+02]]\n",
      "Vector of labels:\n",
      "[0 0 0 0 0 0 0 0 0 0 0 0 0 0 0 0 0 0 0 0 0 0 0 0 0 0 0 0 0 0 0 0 0 0 0 0 0\n",
      " 0 0 0 0 0 0 0 0 0 0 0 0 0 0 0 0 0 0 0 0 0 0 1 1 1 1 1 1 1 1 1 1 1 1 1 1 1\n",
      " 1 1 1 1 1 1 1 1 1 1 1 1 1 1 1 1 1 1 1 1 1 1 1 1 1 1 1 1 1 1 1 1 1 1 1 1 1\n",
      " 1 1 1 1 1 1 1 1 1 1 1 1 1 1 1 1 1 1 1 2 2 2 2 2 2 2 2 2 2 2 2 2 2 2 2 2 2\n",
      " 2 2 2 2 2 2 2 2 2 2 2 2 2 2 2 2 2 2 2 2 2 2 2 2 2 2 2 2 2 2]\n"
     ]
    }
   ],
   "execution_count": 8
  },
  {
   "cell_type": "markdown",
   "metadata": {},
   "source": [
    "Let's relabel the labels for classes 0 and 2 as stated before."
   ]
  },
  {
   "cell_type": "code",
   "metadata": {
    "tags": [],
    "ExecuteTime": {
     "end_time": "2024-11-26T08:32:17.228006Z",
     "start_time": "2024-11-26T08:32:17.216319Z"
    }
   },
   "source": [
    "# -- let's relabel classes 0 and 2 as -1\n",
    "\n",
    "for i in range(len(Y)):\n",
    "    if Y[i] != 1:\n",
    "        Y[i] = -1\n",
    "        \n",
    "# -- let's print the new vector Y\n",
    "print('Re-labeled classes:')\n",
    "print(Y)"
   ],
   "outputs": [
    {
     "name": "stdout",
     "output_type": "stream",
     "text": [
      "Re-labeled classes:\n",
      "[-1 -1 -1 -1 -1 -1 -1 -1 -1 -1 -1 -1 -1 -1 -1 -1 -1 -1 -1 -1 -1 -1 -1 -1\n",
      " -1 -1 -1 -1 -1 -1 -1 -1 -1 -1 -1 -1 -1 -1 -1 -1 -1 -1 -1 -1 -1 -1 -1 -1\n",
      " -1 -1 -1 -1 -1 -1 -1 -1 -1 -1 -1  1  1  1  1  1  1  1  1  1  1  1  1  1\n",
      "  1  1  1  1  1  1  1  1  1  1  1  1  1  1  1  1  1  1  1  1  1  1  1  1\n",
      "  1  1  1  1  1  1  1  1  1  1  1  1  1  1  1  1  1  1  1  1  1  1  1  1\n",
      "  1  1  1  1  1  1  1  1  1  1 -1 -1 -1 -1 -1 -1 -1 -1 -1 -1 -1 -1 -1 -1\n",
      " -1 -1 -1 -1 -1 -1 -1 -1 -1 -1 -1 -1 -1 -1 -1 -1 -1 -1 -1 -1 -1 -1 -1 -1\n",
      " -1 -1 -1 -1 -1 -1 -1 -1 -1 -1]\n"
     ]
    }
   ],
   "execution_count": 9
  },
  {
   "cell_type": "markdown",
   "metadata": {},
   "source": [
    "## Data Preprocessing and Split into Training and Testing ##"
   ]
  },
  {
   "cell_type": "markdown",
   "metadata": {},
   "source": [
    "Before we actually learn the model, it is important that we perform two operations:\n",
    "1. split the data into a training set and a test set\n",
    "2. normalize the features\n",
    "\n",
    "**Note**: some of there operations can be done in few lines with scikit-learn dedicated functions, but we do them \"manually\" to get a better understanding of what is going on."
   ]
  },
  {
   "cell_type": "markdown",
   "metadata": {},
   "source": [
    "*1) Train and Test split:*\n",
    "\n",
    "We now want to split the data into train and test. Let's say we keep 50% of the data for training and 50% for testing. How do we split the data?\n",
    "\n",
    "What about keeping the first 50% of the raws for training and the last 50% of rows for testing? Is it a good idea?"
   ]
  },
  {
   "cell_type": "markdown",
   "metadata": {},
   "source": [
    "Solution: randomly permute the rows, and then split as suggested before.\n",
    "\n",
    "**Note**: since we use randomization in some parts, let's fix a random seed (so that the entire procedure is reproducible, hopefully)."
   ]
  },
  {
   "cell_type": "code",
   "metadata": {
    "tags": [],
    "ExecuteTime": {
     "end_time": "2024-11-26T08:32:18.359294Z",
     "start_time": "2024-11-26T08:32:17.299185Z"
    }
   },
   "source": [
    "# -- we need to import numpy\n",
    "import numpy as np\n",
    "import matplotlib.pyplot as plt\n",
    "\n",
    "# -- set the random seed to your ID number\n",
    "IDnumber = 1\n",
    "np.random.seed(IDnumber)\n",
    "\n",
    "# -- let's generate a permutation among the number of rows\n",
    "# -- TO COMPLETE\n",
    "m = wine.data.shape[0]\n",
    "print(f\"we are taking the number of samples {m}\")\n",
    "permutation = np.random.permutation(m) #and then we want a random sequence of index form 0 to m-1. e.g. m = 5 permutation = [2,0,4,1,3]\n",
    "\n",
    "# -- visualize what permutation does\n",
    "print('Permutation of indexes:\\n', permutation)\n",
    "\n",
    "# -- TO COMPLETE\n",
    "X_perm = X[permutation] #this will reorder the element following the permutation that we had generated above\n",
    "Y_perm = Y[permutation]\n",
    "\n",
    "#let's print Y_perm\n",
    "print('Permutation of targets:\\n', Y_perm)"
   ],
   "outputs": [
    {
     "name": "stdout",
     "output_type": "stream",
     "text": [
      "we are taking the number of samples 178\n",
      "Permutation of indexes:\n",
      " [161 117  19  69  53 138 112  14 160 107  11   4 108  42  84 113 152  35\n",
      " 105  31  51 126 130  73  40 162  47  29  16 147  97 159 151   5 120  94\n",
      "  91  81 114  48  54  59 165  39  56  44  78  33  18  58 127 172 148  12\n",
      "  90  95  28 124 135  66 123  17 164  89 170  13 106  45  93  36 171 166\n",
      " 168 175 118  75  21 173   2  70 163   6  85   0 136  77  65  55  99  88\n",
      " 102  46  62  74  92 176 116 119 125 110  10  34  32 145  38  83 154 177\n",
      "  27 100  23 103  67   9 150 104 122 132 153  87  98 111 167 158  64  15\n",
      "  82  41 143 109  80  52  26  76  43  24   3 149  49 131 169  30 121 115\n",
      " 155   8  60 128   1  57  22  61  63   7 174 141  86  96  68  50 142 157\n",
      " 156 139 146 101  20  25 134  71 129 144  79 133 137  72 140  37]\n",
      "Permutation of targets:\n",
      " [-1  1 -1  1 -1 -1  1 -1 -1  1 -1 -1  1 -1  1  1 -1 -1  1 -1 -1  1 -1  1\n",
      " -1 -1 -1 -1 -1 -1  1 -1 -1 -1  1  1  1  1  1 -1 -1  1 -1 -1 -1 -1  1 -1\n",
      " -1 -1  1 -1 -1 -1  1  1 -1  1 -1  1  1 -1 -1  1 -1 -1  1 -1  1 -1 -1 -1\n",
      " -1 -1  1  1 -1 -1 -1  1 -1 -1  1 -1 -1  1  1 -1  1  1  1 -1  1  1  1 -1\n",
      "  1  1  1  1 -1 -1 -1 -1 -1  1 -1 -1 -1  1 -1  1  1 -1 -1  1  1 -1 -1  1\n",
      "  1  1 -1 -1  1 -1  1 -1 -1  1  1 -1 -1  1 -1 -1 -1 -1 -1 -1 -1 -1  1  1\n",
      " -1 -1  1  1 -1 -1 -1  1  1 -1 -1 -1  1  1  1 -1 -1 -1 -1 -1 -1  1 -1 -1\n",
      " -1  1  1 -1  1 -1 -1  1 -1 -1]\n"
     ]
    }
   ],
   "execution_count": 10
  },
  {
   "cell_type": "markdown",
   "metadata": {},
   "source": [
    "Let's split the data and save into 2 new data matrices/vectors."
   ]
  },
  {
   "cell_type": "code",
   "metadata": {
    "tags": [],
    "ExecuteTime": {
     "end_time": "2024-11-26T08:32:18.399329Z",
     "start_time": "2024-11-26T08:32:18.391590Z"
    }
   },
   "source": [
    "# -- train-test split: 50% training, 50% test\n",
    "\n",
    "m = X_perm.shape[0] #usless, we alrady have m = 178\n",
    "fraction_train = 0.5 #we want to use half of the samples in order to train our model\n",
    "\n",
    "m_train = int(m*fraction_train)\n",
    "print('Number of samples in training set:', m_train)\n",
    "\n",
    "m_test = m - m_train\n",
    "print('Number of samples in test set:', m_test)"
   ],
   "outputs": [
    {
     "name": "stdout",
     "output_type": "stream",
     "text": [
      "Number of samples in training set: 89\n",
      "Number of samples in test set: 89\n"
     ]
    }
   ],
   "execution_count": 11
  },
  {
   "cell_type": "code",
   "metadata": {
    "tags": [],
    "ExecuteTime": {
     "end_time": "2024-11-26T08:32:18.466030Z",
     "start_time": "2024-11-26T08:32:18.458414Z"
    }
   },
   "source": [
    "# -- let's assign the train and test samples \n",
    "# -- TO COMPLETE\n",
    "X_train = X_perm[:m_train,:] \n",
    "Y_train = Y_perm[:m_train]\n",
    "\n",
    "X_test = X_perm[m_train:,]\n",
    "Y_test = Y_perm[m_train:]\n",
    "\n",
    "print('Y training:', Y_train)"
   ],
   "outputs": [
    {
     "name": "stdout",
     "output_type": "stream",
     "text": [
      "Y training: [-1  1 -1  1 -1 -1  1 -1 -1  1 -1 -1  1 -1  1  1 -1 -1  1 -1 -1  1 -1  1\n",
      " -1 -1 -1 -1 -1 -1  1 -1 -1 -1  1  1  1  1  1 -1 -1  1 -1 -1 -1 -1  1 -1\n",
      " -1 -1  1 -1 -1 -1  1  1 -1  1 -1  1  1 -1 -1  1 -1 -1  1 -1  1 -1 -1 -1\n",
      " -1 -1  1  1 -1 -1 -1  1 -1 -1  1 -1 -1  1  1 -1  1]\n"
     ]
    }
   ],
   "execution_count": 12
  },
  {
   "cell_type": "markdown",
   "metadata": {},
   "source": [
    "*2) Features Normalization:*\n",
    "\n",
    "We now center and scale the data to have zero mean and unit variance. This is an important step for the stability of the computation and for other reasons. We are going to use the standard scaler from scikit-learn: https://scikit-learn.org/stable/modules/generated/sklearn.preprocessing.StandardScaler.html"
   ]
  },
  {
   "cell_type": "code",
   "metadata": {
    "tags": [],
    "ExecuteTime": {
     "end_time": "2024-11-26T08:32:18.548535Z",
     "start_time": "2024-11-26T08:32:18.538408Z"
    }
   },
   "source": [
    "# -- load the StandardScaler module\n",
    "from sklearn.preprocessing import StandardScaler\n",
    "\n",
    "# -- we first \"learn\" the scaler function using the training data\n",
    "# -- TO COMPLETE\n",
    "scaler = StandardScaler().fit(X_train)\n",
    "\n",
    "# -- we then apply the scaling function to both training and test data, since we want to simulate what happens \n",
    "# -- when we have data for training and we have future data\n",
    "# -- TO COMPLETE\n",
    "X_train_scaled = scaler.transform(X_train)\n",
    "X_test_scaled =  scaler.transform(X_test)\n",
    "\n",
    "# -- let's print the scaled version of X_traing_scaled\n",
    "print('X_train scaled:\\n', X_train_scaled)"
   ],
   "outputs": [
    {
     "name": "stdout",
     "output_type": "stream",
     "text": [
      "X_train scaled:\n",
      " [[ 0.75978906  0.90435899  0.63672355 ...  0.02998213 -1.19559091\n",
      "  -0.25927744]\n",
      " [-0.77075732 -0.63309317 -0.71528317 ...  0.49486179  0.45548645\n",
      "  -1.26662133]\n",
      " [ 0.69953133  0.75527272  0.71398107 ...  0.02998213  1.03481184\n",
      "   0.23687701]\n",
      " ...\n",
      " [-0.83101506 -1.00580884  0.71398107 ...  1.09920535 -0.50040044\n",
      "  -0.26529144]\n",
      " [ 0.60311896 -0.52127847  0.32769344 ...  0.12295806  0.55686839\n",
      "   1.06380109]\n",
      " [-0.92742743  0.82049796 -0.63802564 ...  2.16842857  0.2672057\n",
      "  -1.08319453]]\n"
     ]
    }
   ],
   "execution_count": 13
  },
  {
   "cell_type": "code",
   "metadata": {
    "ExecuteTime": {
     "end_time": "2024-11-26T08:32:18.611344Z",
     "start_time": "2024-11-26T08:32:18.603463Z"
    }
   },
   "source": [
    "# -- let's compute the mean of each feature in the training data\n",
    "X_means = np.mean(X_train, axis=0)\n",
    "print('Means of X_train:\\n', X_means)\n",
    "print('\\n')\n",
    "\n",
    "# -- let's compute the standard deviation of each feature in the training data\n",
    "X_stds = np.std(X_train, axis=0)\n",
    "print('Standard deviations of X_train:\\n', X_stds)\n",
    "print('\\n')\n",
    "\n",
    "# -- let's scale the data by hand\n",
    "X_train_scaled_byhand = (X_train - X_means)/X_stds\n",
    "X_test_scaled_byhand = (X_test - X_means)/X_stds\n",
    "\n",
    "# -- print the scaled version of X_train\n",
    "print('X_train scaled by hand:\\n', X_train_scaled_byhand)"
   ],
   "outputs": [
    {
     "name": "stdout",
     "output_type": "stream",
     "text": [
      "Means of X_train:\n",
      " [1.30595506e+01 2.28943820e+00 2.37516854e+00 1.89651685e+01\n",
      " 1.01651685e+02 2.31966292e+00 2.10921348e+00 3.58089888e-01\n",
      " 1.68786517e+00 5.20955055e+00 9.53550562e-01 2.64550562e+00\n",
      " 7.66224719e+02]\n",
      "\n",
      "\n",
      "Standard deviations of X_train:\n",
      " [8.29769035e-01 1.07320413e+00 2.58874454e-01 3.24688619e+00\n",
      " 1.62668071e+01 6.25440877e-01 9.97925066e-01 1.19670675e-01\n",
      " 5.88945872e-01 2.26148547e+00 2.15109432e-01 6.90458261e-01\n",
      " 3.32557734e+02]\n",
      "\n",
      "\n",
      "X_train scaled by hand:\n",
      " [[ 0.75978906  0.90435899  0.63672355 ...  0.02998213 -1.19559091\n",
      "  -0.25927744]\n",
      " [-0.77075732 -0.63309317 -0.71528317 ...  0.49486179  0.45548645\n",
      "  -1.26662133]\n",
      " [ 0.69953133  0.75527272  0.71398107 ...  0.02998213  1.03481184\n",
      "   0.23687701]\n",
      " ...\n",
      " [-0.83101506 -1.00580884  0.71398107 ...  1.09920535 -0.50040044\n",
      "  -0.26529144]\n",
      " [ 0.60311896 -0.52127847  0.32769344 ...  0.12295806  0.55686839\n",
      "   1.06380109]\n",
      " [-0.92742743  0.82049796 -0.63802564 ...  2.16842857  0.2672057\n",
      "  -1.08319453]]\n"
     ]
    }
   ],
   "execution_count": 14
  },
  {
   "cell_type": "markdown",
   "metadata": {},
   "source": [
    "Alternatively, let's perform the same operation manually, without using the StandardScaler module"
   ]
  },
  {
   "cell_type": "markdown",
   "metadata": {},
   "source": [
    "The values correspond to those seen above obtained with the scaler"
   ]
  },
  {
   "cell_type": "markdown",
   "metadata": {},
   "source": [
    "Let's check if the scaler did his job  "
   ]
  },
  {
   "cell_type": "code",
   "metadata": {
    "tags": [],
    "ExecuteTime": {
     "end_time": "2024-11-26T08:32:18.678014Z",
     "start_time": "2024-11-26T08:32:18.670136Z"
    }
   },
   "source": [
    "print('X_train mean:\\n', np.mean(X_train_scaled, axis=0))\n",
    "print('\\n')\n",
    "print('X_train std:\\n', np.std(X_train_scaled, axis=0))"
   ],
   "outputs": [
    {
     "name": "stdout",
     "output_type": "stream",
     "text": [
      "X_train mean:\n",
      " [-2.38510834e-15 -5.61348720e-17  2.06077352e-15  1.61481315e-15\n",
      " -3.36809232e-16  1.36345367e-15 -1.04909839e-15 -2.00838098e-16\n",
      " -6.83597997e-16  2.46993437e-16  7.23516128e-16 -8.80070049e-16\n",
      "  3.74232480e-17]\n",
      "\n",
      "\n",
      "X_train std:\n",
      " [1. 1. 1. 1. 1. 1. 1. 1. 1. 1. 1. 1. 1.]\n"
     ]
    }
   ],
   "execution_count": 15
  },
  {
   "cell_type": "code",
   "metadata": {
    "tags": [],
    "ExecuteTime": {
     "end_time": "2024-11-26T08:32:18.748214Z",
     "start_time": "2024-11-26T08:32:18.740530Z"
    }
   },
   "source": [
    "print('X_test mean:\\n', np.mean(X_test_scaled, axis=0))\n",
    "print('\\n')\n",
    "print('X_test std:\\n', np.std(X_test_scaled, axis=0))"
   ],
   "outputs": [
    {
     "name": "stdout",
     "output_type": "stream",
     "text": [
      "X_test mean:\n",
      " [-0.14204575  0.08742067 -0.06684078  0.32632821 -0.23484785 -0.07850642\n",
      " -0.16022009  0.06290672 -0.32928762 -0.13394795  0.03625017 -0.09796457\n",
      " -0.11625928]\n",
      "\n",
      "\n",
      "X_test std:\n",
      " [0.94530282 1.07290981 1.10964721 1.02502292 0.71104031 0.99412865\n",
      " 0.98977359 1.07187905 0.90780157 1.03968689 1.11571535 1.04789128\n",
      " 0.88119444]\n"
     ]
    }
   ],
   "execution_count": 16
  },
  {
   "cell_type": "markdown",
   "metadata": {},
   "source": [
    "## Learning a Model ##\n",
    "\n",
    "We now need to decide which model/algorithm we are going to use for our classification task. There are several models available in scikit-learn: https://scikit-learn.org/0.23/index.html"
   ]
  },
  {
   "cell_type": "markdown",
   "metadata": {},
   "source": [
    "We are going to start from the simplest models, that is, linear models: https://scikit-learn.org/0.23/modules/classes.html#module-sklearn.linear_model"
   ]
  },
  {
   "cell_type": "markdown",
   "metadata": {},
   "source": [
    "How do we find the best hypothesis?"
   ]
  },
  {
   "cell_type": "markdown",
   "metadata": {},
   "source": [
    "We need to define a loss function and then use Empirical Risk Minimization (ERM). \n",
    "\n",
    "What loss function does it make sense to use?"
   ]
  },
  {
   "cell_type": "markdown",
   "metadata": {},
   "source": [
    "But what is the actual algorithm? We are going to consider the **Perceptron** algorithm: https://scikit-learn.org/0.23/modules/generated/sklearn.linear_model.Perceptron.html\n",
    "\n",
    "Let's load the corresponding module in scikit-learn"
   ]
  },
  {
   "cell_type": "code",
   "metadata": {
    "tags": [],
    "ExecuteTime": {
     "end_time": "2024-11-26T08:32:19.529034Z",
     "start_time": "2024-11-26T08:32:18.818105Z"
    }
   },
   "source": [
    "from sklearn.linear_model import Perceptron"
   ],
   "outputs": [],
   "execution_count": 17
  },
  {
   "cell_type": "markdown",
   "metadata": {},
   "source": [
    "Let's us the Perceptron algorithm as implemented in scikit-learn. It proceeds in iterations.\n",
    "\n",
    "The Perceptron has several parameters, some of which we will understand later on. An important one is $\\texttt{tol}$, that represents how much the training error should improve in one iteration for the algorithm to continue."
   ]
  },
  {
   "cell_type": "code",
   "metadata": {
    "tags": [],
    "ExecuteTime": {
     "end_time": "2024-11-26T08:32:19.573992Z",
     "start_time": "2024-11-26T08:32:19.548459Z"
    }
   },
   "source": [
    "#let's learn a model using Perceptron\n",
    "\n",
    "# -- we first define the classifier, fixing the random state for reproducibility\n",
    "perceptron = Perceptron(random_state = IDnumber, tol=1e-3)\n",
    "\n",
    "# -- let's now learn the classifier (i.e., run the perceptron to fix the weights)\n",
    "perceptron.fit(X_train_scaled, Y_train)"
   ],
   "outputs": [
    {
     "data": {
      "text/plain": [
       "Perceptron(random_state=1)"
      ],
      "text/html": [
       "<style>#sk-container-id-1 {\n",
       "  /* Definition of color scheme common for light and dark mode */\n",
       "  --sklearn-color-text: black;\n",
       "  --sklearn-color-line: gray;\n",
       "  /* Definition of color scheme for unfitted estimators */\n",
       "  --sklearn-color-unfitted-level-0: #fff5e6;\n",
       "  --sklearn-color-unfitted-level-1: #f6e4d2;\n",
       "  --sklearn-color-unfitted-level-2: #ffe0b3;\n",
       "  --sklearn-color-unfitted-level-3: chocolate;\n",
       "  /* Definition of color scheme for fitted estimators */\n",
       "  --sklearn-color-fitted-level-0: #f0f8ff;\n",
       "  --sklearn-color-fitted-level-1: #d4ebff;\n",
       "  --sklearn-color-fitted-level-2: #b3dbfd;\n",
       "  --sklearn-color-fitted-level-3: cornflowerblue;\n",
       "\n",
       "  /* Specific color for light theme */\n",
       "  --sklearn-color-text-on-default-background: var(--sg-text-color, var(--theme-code-foreground, var(--jp-content-font-color1, black)));\n",
       "  --sklearn-color-background: var(--sg-background-color, var(--theme-background, var(--jp-layout-color0, white)));\n",
       "  --sklearn-color-border-box: var(--sg-text-color, var(--theme-code-foreground, var(--jp-content-font-color1, black)));\n",
       "  --sklearn-color-icon: #696969;\n",
       "\n",
       "  @media (prefers-color-scheme: dark) {\n",
       "    /* Redefinition of color scheme for dark theme */\n",
       "    --sklearn-color-text-on-default-background: var(--sg-text-color, var(--theme-code-foreground, var(--jp-content-font-color1, white)));\n",
       "    --sklearn-color-background: var(--sg-background-color, var(--theme-background, var(--jp-layout-color0, #111)));\n",
       "    --sklearn-color-border-box: var(--sg-text-color, var(--theme-code-foreground, var(--jp-content-font-color1, white)));\n",
       "    --sklearn-color-icon: #878787;\n",
       "  }\n",
       "}\n",
       "\n",
       "#sk-container-id-1 {\n",
       "  color: var(--sklearn-color-text);\n",
       "}\n",
       "\n",
       "#sk-container-id-1 pre {\n",
       "  padding: 0;\n",
       "}\n",
       "\n",
       "#sk-container-id-1 input.sk-hidden--visually {\n",
       "  border: 0;\n",
       "  clip: rect(1px 1px 1px 1px);\n",
       "  clip: rect(1px, 1px, 1px, 1px);\n",
       "  height: 1px;\n",
       "  margin: -1px;\n",
       "  overflow: hidden;\n",
       "  padding: 0;\n",
       "  position: absolute;\n",
       "  width: 1px;\n",
       "}\n",
       "\n",
       "#sk-container-id-1 div.sk-dashed-wrapped {\n",
       "  border: 1px dashed var(--sklearn-color-line);\n",
       "  margin: 0 0.4em 0.5em 0.4em;\n",
       "  box-sizing: border-box;\n",
       "  padding-bottom: 0.4em;\n",
       "  background-color: var(--sklearn-color-background);\n",
       "}\n",
       "\n",
       "#sk-container-id-1 div.sk-container {\n",
       "  /* jupyter's `normalize.less` sets `[hidden] { display: none; }`\n",
       "     but bootstrap.min.css set `[hidden] { display: none !important; }`\n",
       "     so we also need the `!important` here to be able to override the\n",
       "     default hidden behavior on the sphinx rendered scikit-learn.org.\n",
       "     See: https://github.com/scikit-learn/scikit-learn/issues/21755 */\n",
       "  display: inline-block !important;\n",
       "  position: relative;\n",
       "}\n",
       "\n",
       "#sk-container-id-1 div.sk-text-repr-fallback {\n",
       "  display: none;\n",
       "}\n",
       "\n",
       "div.sk-parallel-item,\n",
       "div.sk-serial,\n",
       "div.sk-item {\n",
       "  /* draw centered vertical line to link estimators */\n",
       "  background-image: linear-gradient(var(--sklearn-color-text-on-default-background), var(--sklearn-color-text-on-default-background));\n",
       "  background-size: 2px 100%;\n",
       "  background-repeat: no-repeat;\n",
       "  background-position: center center;\n",
       "}\n",
       "\n",
       "/* Parallel-specific style estimator block */\n",
       "\n",
       "#sk-container-id-1 div.sk-parallel-item::after {\n",
       "  content: \"\";\n",
       "  width: 100%;\n",
       "  border-bottom: 2px solid var(--sklearn-color-text-on-default-background);\n",
       "  flex-grow: 1;\n",
       "}\n",
       "\n",
       "#sk-container-id-1 div.sk-parallel {\n",
       "  display: flex;\n",
       "  align-items: stretch;\n",
       "  justify-content: center;\n",
       "  background-color: var(--sklearn-color-background);\n",
       "  position: relative;\n",
       "}\n",
       "\n",
       "#sk-container-id-1 div.sk-parallel-item {\n",
       "  display: flex;\n",
       "  flex-direction: column;\n",
       "}\n",
       "\n",
       "#sk-container-id-1 div.sk-parallel-item:first-child::after {\n",
       "  align-self: flex-end;\n",
       "  width: 50%;\n",
       "}\n",
       "\n",
       "#sk-container-id-1 div.sk-parallel-item:last-child::after {\n",
       "  align-self: flex-start;\n",
       "  width: 50%;\n",
       "}\n",
       "\n",
       "#sk-container-id-1 div.sk-parallel-item:only-child::after {\n",
       "  width: 0;\n",
       "}\n",
       "\n",
       "/* Serial-specific style estimator block */\n",
       "\n",
       "#sk-container-id-1 div.sk-serial {\n",
       "  display: flex;\n",
       "  flex-direction: column;\n",
       "  align-items: center;\n",
       "  background-color: var(--sklearn-color-background);\n",
       "  padding-right: 1em;\n",
       "  padding-left: 1em;\n",
       "}\n",
       "\n",
       "\n",
       "/* Toggleable style: style used for estimator/Pipeline/ColumnTransformer box that is\n",
       "clickable and can be expanded/collapsed.\n",
       "- Pipeline and ColumnTransformer use this feature and define the default style\n",
       "- Estimators will overwrite some part of the style using the `sk-estimator` class\n",
       "*/\n",
       "\n",
       "/* Pipeline and ColumnTransformer style (default) */\n",
       "\n",
       "#sk-container-id-1 div.sk-toggleable {\n",
       "  /* Default theme specific background. It is overwritten whether we have a\n",
       "  specific estimator or a Pipeline/ColumnTransformer */\n",
       "  background-color: var(--sklearn-color-background);\n",
       "}\n",
       "\n",
       "/* Toggleable label */\n",
       "#sk-container-id-1 label.sk-toggleable__label {\n",
       "  cursor: pointer;\n",
       "  display: block;\n",
       "  width: 100%;\n",
       "  margin-bottom: 0;\n",
       "  padding: 0.5em;\n",
       "  box-sizing: border-box;\n",
       "  text-align: center;\n",
       "}\n",
       "\n",
       "#sk-container-id-1 label.sk-toggleable__label-arrow:before {\n",
       "  /* Arrow on the left of the label */\n",
       "  content: \"▸\";\n",
       "  float: left;\n",
       "  margin-right: 0.25em;\n",
       "  color: var(--sklearn-color-icon);\n",
       "}\n",
       "\n",
       "#sk-container-id-1 label.sk-toggleable__label-arrow:hover:before {\n",
       "  color: var(--sklearn-color-text);\n",
       "}\n",
       "\n",
       "/* Toggleable content - dropdown */\n",
       "\n",
       "#sk-container-id-1 div.sk-toggleable__content {\n",
       "  max-height: 0;\n",
       "  max-width: 0;\n",
       "  overflow: hidden;\n",
       "  text-align: left;\n",
       "  /* unfitted */\n",
       "  background-color: var(--sklearn-color-unfitted-level-0);\n",
       "}\n",
       "\n",
       "#sk-container-id-1 div.sk-toggleable__content.fitted {\n",
       "  /* fitted */\n",
       "  background-color: var(--sklearn-color-fitted-level-0);\n",
       "}\n",
       "\n",
       "#sk-container-id-1 div.sk-toggleable__content pre {\n",
       "  margin: 0.2em;\n",
       "  border-radius: 0.25em;\n",
       "  color: var(--sklearn-color-text);\n",
       "  /* unfitted */\n",
       "  background-color: var(--sklearn-color-unfitted-level-0);\n",
       "}\n",
       "\n",
       "#sk-container-id-1 div.sk-toggleable__content.fitted pre {\n",
       "  /* unfitted */\n",
       "  background-color: var(--sklearn-color-fitted-level-0);\n",
       "}\n",
       "\n",
       "#sk-container-id-1 input.sk-toggleable__control:checked~div.sk-toggleable__content {\n",
       "  /* Expand drop-down */\n",
       "  max-height: 200px;\n",
       "  max-width: 100%;\n",
       "  overflow: auto;\n",
       "}\n",
       "\n",
       "#sk-container-id-1 input.sk-toggleable__control:checked~label.sk-toggleable__label-arrow:before {\n",
       "  content: \"▾\";\n",
       "}\n",
       "\n",
       "/* Pipeline/ColumnTransformer-specific style */\n",
       "\n",
       "#sk-container-id-1 div.sk-label input.sk-toggleable__control:checked~label.sk-toggleable__label {\n",
       "  color: var(--sklearn-color-text);\n",
       "  background-color: var(--sklearn-color-unfitted-level-2);\n",
       "}\n",
       "\n",
       "#sk-container-id-1 div.sk-label.fitted input.sk-toggleable__control:checked~label.sk-toggleable__label {\n",
       "  background-color: var(--sklearn-color-fitted-level-2);\n",
       "}\n",
       "\n",
       "/* Estimator-specific style */\n",
       "\n",
       "/* Colorize estimator box */\n",
       "#sk-container-id-1 div.sk-estimator input.sk-toggleable__control:checked~label.sk-toggleable__label {\n",
       "  /* unfitted */\n",
       "  background-color: var(--sklearn-color-unfitted-level-2);\n",
       "}\n",
       "\n",
       "#sk-container-id-1 div.sk-estimator.fitted input.sk-toggleable__control:checked~label.sk-toggleable__label {\n",
       "  /* fitted */\n",
       "  background-color: var(--sklearn-color-fitted-level-2);\n",
       "}\n",
       "\n",
       "#sk-container-id-1 div.sk-label label.sk-toggleable__label,\n",
       "#sk-container-id-1 div.sk-label label {\n",
       "  /* The background is the default theme color */\n",
       "  color: var(--sklearn-color-text-on-default-background);\n",
       "}\n",
       "\n",
       "/* On hover, darken the color of the background */\n",
       "#sk-container-id-1 div.sk-label:hover label.sk-toggleable__label {\n",
       "  color: var(--sklearn-color-text);\n",
       "  background-color: var(--sklearn-color-unfitted-level-2);\n",
       "}\n",
       "\n",
       "/* Label box, darken color on hover, fitted */\n",
       "#sk-container-id-1 div.sk-label.fitted:hover label.sk-toggleable__label.fitted {\n",
       "  color: var(--sklearn-color-text);\n",
       "  background-color: var(--sklearn-color-fitted-level-2);\n",
       "}\n",
       "\n",
       "/* Estimator label */\n",
       "\n",
       "#sk-container-id-1 div.sk-label label {\n",
       "  font-family: monospace;\n",
       "  font-weight: bold;\n",
       "  display: inline-block;\n",
       "  line-height: 1.2em;\n",
       "}\n",
       "\n",
       "#sk-container-id-1 div.sk-label-container {\n",
       "  text-align: center;\n",
       "}\n",
       "\n",
       "/* Estimator-specific */\n",
       "#sk-container-id-1 div.sk-estimator {\n",
       "  font-family: monospace;\n",
       "  border: 1px dotted var(--sklearn-color-border-box);\n",
       "  border-radius: 0.25em;\n",
       "  box-sizing: border-box;\n",
       "  margin-bottom: 0.5em;\n",
       "  /* unfitted */\n",
       "  background-color: var(--sklearn-color-unfitted-level-0);\n",
       "}\n",
       "\n",
       "#sk-container-id-1 div.sk-estimator.fitted {\n",
       "  /* fitted */\n",
       "  background-color: var(--sklearn-color-fitted-level-0);\n",
       "}\n",
       "\n",
       "/* on hover */\n",
       "#sk-container-id-1 div.sk-estimator:hover {\n",
       "  /* unfitted */\n",
       "  background-color: var(--sklearn-color-unfitted-level-2);\n",
       "}\n",
       "\n",
       "#sk-container-id-1 div.sk-estimator.fitted:hover {\n",
       "  /* fitted */\n",
       "  background-color: var(--sklearn-color-fitted-level-2);\n",
       "}\n",
       "\n",
       "/* Specification for estimator info (e.g. \"i\" and \"?\") */\n",
       "\n",
       "/* Common style for \"i\" and \"?\" */\n",
       "\n",
       ".sk-estimator-doc-link,\n",
       "a:link.sk-estimator-doc-link,\n",
       "a:visited.sk-estimator-doc-link {\n",
       "  float: right;\n",
       "  font-size: smaller;\n",
       "  line-height: 1em;\n",
       "  font-family: monospace;\n",
       "  background-color: var(--sklearn-color-background);\n",
       "  border-radius: 1em;\n",
       "  height: 1em;\n",
       "  width: 1em;\n",
       "  text-decoration: none !important;\n",
       "  margin-left: 1ex;\n",
       "  /* unfitted */\n",
       "  border: var(--sklearn-color-unfitted-level-1) 1pt solid;\n",
       "  color: var(--sklearn-color-unfitted-level-1);\n",
       "}\n",
       "\n",
       ".sk-estimator-doc-link.fitted,\n",
       "a:link.sk-estimator-doc-link.fitted,\n",
       "a:visited.sk-estimator-doc-link.fitted {\n",
       "  /* fitted */\n",
       "  border: var(--sklearn-color-fitted-level-1) 1pt solid;\n",
       "  color: var(--sklearn-color-fitted-level-1);\n",
       "}\n",
       "\n",
       "/* On hover */\n",
       "div.sk-estimator:hover .sk-estimator-doc-link:hover,\n",
       ".sk-estimator-doc-link:hover,\n",
       "div.sk-label-container:hover .sk-estimator-doc-link:hover,\n",
       ".sk-estimator-doc-link:hover {\n",
       "  /* unfitted */\n",
       "  background-color: var(--sklearn-color-unfitted-level-3);\n",
       "  color: var(--sklearn-color-background);\n",
       "  text-decoration: none;\n",
       "}\n",
       "\n",
       "div.sk-estimator.fitted:hover .sk-estimator-doc-link.fitted:hover,\n",
       ".sk-estimator-doc-link.fitted:hover,\n",
       "div.sk-label-container:hover .sk-estimator-doc-link.fitted:hover,\n",
       ".sk-estimator-doc-link.fitted:hover {\n",
       "  /* fitted */\n",
       "  background-color: var(--sklearn-color-fitted-level-3);\n",
       "  color: var(--sklearn-color-background);\n",
       "  text-decoration: none;\n",
       "}\n",
       "\n",
       "/* Span, style for the box shown on hovering the info icon */\n",
       ".sk-estimator-doc-link span {\n",
       "  display: none;\n",
       "  z-index: 9999;\n",
       "  position: relative;\n",
       "  font-weight: normal;\n",
       "  right: .2ex;\n",
       "  padding: .5ex;\n",
       "  margin: .5ex;\n",
       "  width: min-content;\n",
       "  min-width: 20ex;\n",
       "  max-width: 50ex;\n",
       "  color: var(--sklearn-color-text);\n",
       "  box-shadow: 2pt 2pt 4pt #999;\n",
       "  /* unfitted */\n",
       "  background: var(--sklearn-color-unfitted-level-0);\n",
       "  border: .5pt solid var(--sklearn-color-unfitted-level-3);\n",
       "}\n",
       "\n",
       ".sk-estimator-doc-link.fitted span {\n",
       "  /* fitted */\n",
       "  background: var(--sklearn-color-fitted-level-0);\n",
       "  border: var(--sklearn-color-fitted-level-3);\n",
       "}\n",
       "\n",
       ".sk-estimator-doc-link:hover span {\n",
       "  display: block;\n",
       "}\n",
       "\n",
       "/* \"?\"-specific style due to the `<a>` HTML tag */\n",
       "\n",
       "#sk-container-id-1 a.estimator_doc_link {\n",
       "  float: right;\n",
       "  font-size: 1rem;\n",
       "  line-height: 1em;\n",
       "  font-family: monospace;\n",
       "  background-color: var(--sklearn-color-background);\n",
       "  border-radius: 1rem;\n",
       "  height: 1rem;\n",
       "  width: 1rem;\n",
       "  text-decoration: none;\n",
       "  /* unfitted */\n",
       "  color: var(--sklearn-color-unfitted-level-1);\n",
       "  border: var(--sklearn-color-unfitted-level-1) 1pt solid;\n",
       "}\n",
       "\n",
       "#sk-container-id-1 a.estimator_doc_link.fitted {\n",
       "  /* fitted */\n",
       "  border: var(--sklearn-color-fitted-level-1) 1pt solid;\n",
       "  color: var(--sklearn-color-fitted-level-1);\n",
       "}\n",
       "\n",
       "/* On hover */\n",
       "#sk-container-id-1 a.estimator_doc_link:hover {\n",
       "  /* unfitted */\n",
       "  background-color: var(--sklearn-color-unfitted-level-3);\n",
       "  color: var(--sklearn-color-background);\n",
       "  text-decoration: none;\n",
       "}\n",
       "\n",
       "#sk-container-id-1 a.estimator_doc_link.fitted:hover {\n",
       "  /* fitted */\n",
       "  background-color: var(--sklearn-color-fitted-level-3);\n",
       "}\n",
       "</style><div id=\"sk-container-id-1\" class=\"sk-top-container\"><div class=\"sk-text-repr-fallback\"><pre>Perceptron(random_state=1)</pre><b>In a Jupyter environment, please rerun this cell to show the HTML representation or trust the notebook. <br />On GitHub, the HTML representation is unable to render, please try loading this page with nbviewer.org.</b></div><div class=\"sk-container\" hidden><div class=\"sk-item\"><div class=\"sk-estimator fitted sk-toggleable\"><input class=\"sk-toggleable__control sk-hidden--visually\" id=\"sk-estimator-id-1\" type=\"checkbox\" checked><label for=\"sk-estimator-id-1\" class=\"sk-toggleable__label fitted sk-toggleable__label-arrow fitted\">&nbsp;&nbsp;Perceptron<a class=\"sk-estimator-doc-link fitted\" rel=\"noreferrer\" target=\"_blank\" href=\"https://scikit-learn.org/1.5/modules/generated/sklearn.linear_model.Perceptron.html\">?<span>Documentation for Perceptron</span></a><span class=\"sk-estimator-doc-link fitted\">i<span>Fitted</span></span></label><div class=\"sk-toggleable__content fitted\"><pre>Perceptron(random_state=1)</pre></div> </div></div></div></div>"
      ]
     },
     "execution_count": 18,
     "metadata": {},
     "output_type": "execute_result"
    }
   ],
   "execution_count": 18
  },
  {
   "cell_type": "markdown",
   "metadata": {},
   "source": [
    "Let's print out the model we learned."
   ]
  },
  {
   "cell_type": "code",
   "metadata": {
    "tags": [],
    "ExecuteTime": {
     "end_time": "2024-11-26T08:32:19.617517Z",
     "start_time": "2024-11-26T08:32:19.609456Z"
    }
   },
   "source": [
    "print(\"Coefficient of features in the model we learned:\")\n",
    "# -- TO COMPLETE\n",
    "print(perceptron.coef_)\n",
    "\n",
    "print(\"Bias in the model we learned:\")\n",
    "# -- TO COMPLETE\n",
    "print(perceptron.intercept_)"
   ],
   "outputs": [
    {
     "name": "stdout",
     "output_type": "stream",
     "text": [
      "Coefficient of features in the model we learned:\n",
      "[[-4.96848696 -1.74558664 -4.09074263  4.03186637 -1.72682244  0.3485182\n",
      "   2.99148804 -0.34645642  2.28746151 -6.78434457  3.53914454  1.1485614\n",
      "  -6.59931033]]\n",
      "Bias in the model we learned:\n",
      "[-6.]\n"
     ]
    }
   ],
   "execution_count": 19
  },
  {
   "cell_type": "markdown",
   "metadata": {},
   "source": [
    "How well does our method perform?\n",
    "\n",
    "We need to compute the training error of the hypothesis $h_S$ we learned from the training set $S$. There is no function in scikit-learn to compute the training error $L_S(h_S)$. However, there is a function to compute the **score**, that for the 0-1 loss corresponds to $1 - L_S(h_S)$."
   ]
  },
  {
   "cell_type": "code",
   "metadata": {
    "tags": [],
    "ExecuteTime": {
     "end_time": "2024-11-26T08:32:19.691652Z",
     "start_time": "2024-11-26T08:32:19.681245Z"
    }
   },
   "source": [
    "# -- let's compute the training error\n",
    "training_error = 1.0 - perceptron.score(X_train_scaled, Y_train)\n",
    "\n",
    "# -- let's print the training error\n",
    "print(\"Training error: \", training_error)"
   ],
   "outputs": [
    {
     "name": "stdout",
     "output_type": "stream",
     "text": [
      "Training error:  0.0\n"
     ]
    }
   ],
   "execution_count": 20
  },
  {
   "cell_type": "markdown",
   "metadata": {},
   "source": [
    "But we don't care about the training error... we are interested in the generalization error! How do we estimate it? Let's use some data that we did not use for training, that is what we called test data."
   ]
  },
  {
   "cell_type": "code",
   "metadata": {
    "tags": [],
    "ExecuteTime": {
     "end_time": "2024-11-26T08:32:19.757574Z",
     "start_time": "2024-11-26T08:32:19.751099Z"
    }
   },
   "source": [
    "# -- let's compute the test error\n",
    "test_error = 1.0 - perceptron.score(X_test_scaled, Y_test)\n",
    "\n",
    "# -- let's print the test error\n",
    "print(\"Test error: \", test_error)"
   ],
   "outputs": [
    {
     "name": "stdout",
     "output_type": "stream",
     "text": [
      "Test error:  0.0449438202247191\n"
     ]
    }
   ],
   "execution_count": 21
  },
  {
   "cell_type": "markdown",
   "metadata": {},
   "source": [
    "## Impact of the amount of training data ##\n",
    "\n",
    "We will now try to understand the impact of the amount of data we have for training.\n",
    "\n",
    "To do this, we are going to train a model using a subset of the data with $10*i$ samples, for $i=1,2,3,\\dots,10$, and then compute the training error and the test error."
   ]
  },
  {
   "cell_type": "code",
   "metadata": {
    "tags": [],
    "ExecuteTime": {
     "end_time": "2024-11-26T08:32:19.841583Z",
     "start_time": "2024-11-26T08:32:19.830561Z"
    }
   },
   "source": [
    "def compute_errors(X, Y, n_samples):\n",
    "\n",
    "    # -- total number of samples, useful for later on\n",
    "    m_total = X.shape[0]\n",
    "    \n",
    "    # -- two lists where to save the training error and the test error, useful for plotting\n",
    "    train_errors = list()\n",
    "    test_errors = list()\n",
    "    \n",
    "    # -- let's define the learner we use in this part\n",
    "    perceptron = Perceptron(random_state = IDnumber, tol=1e-3)\n",
    "    \n",
    "    for idx_iter in range(10, n_samples + 1):\n",
    "        # -- we now repeat all the previous steps\n",
    "        # -- split into training and test\n",
    "        m_training = idx_iter\n",
    "        \n",
    "        X_train = X[:m_training,:]\n",
    "        Y_train = Y[:m_training]\n",
    "    \n",
    "        X_test = X[m_training:,]\n",
    "        Y_test = Y[m_training:]\n",
    "        \n",
    "        # -- scale the data according to the training test, for both training and testing\n",
    "        scaler = StandardScaler().fit(X_train)\n",
    "        X_train_scaled = scaler.transform(X_train)\n",
    "        X_test_scaled =  scaler.transform(X_test)\n",
    "        \n",
    "        # -- let's now learn the classifier (i.e., run the perceptron to fix the weights)\n",
    "        perceptron.fit(X_train_scaled, Y_train)\n",
    "        \n",
    "        train_errors.append(1.0 - perceptron.score(X_train_scaled, Y_train))\n",
    "        test_errors.append(1.0 - perceptron.score(X_test_scaled, Y_test))\n",
    "\n",
    "    return train_errors, test_errors\n"
   ],
   "outputs": [],
   "execution_count": 22
  },
  {
   "cell_type": "code",
   "metadata": {
    "ExecuteTime": {
     "end_time": "2024-11-26T08:32:19.880618Z",
     "start_time": "2024-11-26T08:32:19.874109Z"
    }
   },
   "source": [
    "def plot_errors(X, Y, n_samples):\n",
    "    train_errors, test_errors = compute_errors(X, Y, n_samples)\n",
    "    \n",
    "    sample_range = list(range(10, n_samples + 1))\n",
    "    \n",
    "    plt.plot(sample_range, train_errors, 'x:', markevery= n_samples // 10)\n",
    "    plt.plot(sample_range, test_errors, 'o--', markevery= n_samples // 10)\n",
    "    \n",
    "    plt.xlabel(\"Number of samples\")\n",
    "    plt.ylabel(\"Error\")\n",
    "    plt.legend([\"Training error\",\"Test error\"])\n",
    "    plt.show()"
   ],
   "outputs": [],
   "execution_count": 23
  },
  {
   "cell_type": "code",
   "metadata": {
    "ExecuteTime": {
     "end_time": "2024-11-26T08:32:20.227387Z",
     "start_time": "2024-11-26T08:32:19.905565Z"
    }
   },
   "source": [
    "n_samples = 90\n",
    "plot_errors(X_perm, Y_perm, n_samples)"
   ],
   "outputs": [
    {
     "data": {
      "text/plain": [
       "<Figure size 640x480 with 1 Axes>"
      ],
      "image/png": "[encoded data removed]"
     },
     "metadata": {},
     "output_type": "display_data"
    }
   ],
   "execution_count": 24
  },
  {
   "cell_type": "markdown",
   "metadata": {},
   "source": [
    "Now let's plot the training and test error as a function of the training dataset size."
   ]
  },
  {
   "cell_type": "markdown",
   "metadata": {
    "tags": []
   },
   "source": [
    "## Impact of random_state by the perceptron \n",
    "\n",
    "Let's learn a model with a different random seed for the Perceptron and see how different the model is from the previous one."
   ]
  },
  {
   "cell_type": "code",
   "metadata": {
    "tags": [],
    "ExecuteTime": {
     "end_time": "2024-11-26T08:32:20.263683Z",
     "start_time": "2024-11-26T08:32:20.247967Z"
    }
   },
   "source": [
    "#let's learn a new model using Perceptron\n",
    "\n",
    "# -- we first define the classifier, fixing the random state for reproducibility\n",
    "old_perceptron = Perceptron(random_state = 1*IDnumber, tol=1e-3)\n",
    "new_perceptron = Perceptron(random_state = 2*IDnumber, tol=1e-3)\n",
    "\n",
    "# --let's now learn the classifier (i.e., run the perceptron to fix the weights)\n",
    "old_perceptron.fit(X_train_scaled, Y_train)\n",
    "new_perceptron.fit(X_train_scaled, Y_train)\n",
    "\n",
    "\n",
    "# -- let's print the training error\n",
    "print(\"Training error of old perceptron: \", 1.0 - old_perceptron.score(X_train_scaled, Y_train))\n",
    "print(\"Training error of new perceptron: \", 1.0 - new_perceptron.score(X_train_scaled, Y_train))\n",
    "\n",
    "# -- let's print the test error\n",
    "print(\"Test error of old perceptron: \", 1.0 - old_perceptron.score(X_test_scaled, Y_test))\n",
    "print(\"Test error of new perceptron: \", 1.0 - new_perceptron.score(X_test_scaled, Y_test))"
   ],
   "outputs": [
    {
     "name": "stdout",
     "output_type": "stream",
     "text": [
      "Training error of old perceptron:  0.0\n",
      "Training error of new perceptron:  0.0\n",
      "Test error of old perceptron:  0.0449438202247191\n",
      "Test error of new perceptron:  0.0674157303370787\n"
     ]
    }
   ],
   "execution_count": 25
  },
  {
   "cell_type": "code",
   "metadata": {
    "ExecuteTime": {
     "end_time": "2024-11-26T08:32:20.324099Z",
     "start_time": "2024-11-26T08:32:20.310278Z"
    }
   },
   "source": [
    "def plot_model_parameters(old_perceptron, new_perceptron):\n",
    "    \n",
    "    # -- let's plot the parameters of the two different models\n",
    "    \n",
    "    fig, axs = plt.subplots(1, 1)\n",
    "    \n",
    "    axs.bar(x = range(0, 42, 3), height = np.append(old_perceptron.coef_[0], old_perceptron.intercept_), \n",
    "            color='C0', edgecolor='k', linewidth=.5);\n",
    "    axs.bar(x = range(1, 42, 3), height = np.append(new_perceptron.coef_[0], new_perceptron.intercept_), \n",
    "            color='C1', edgecolor='k',  linewidth=.5);\n",
    "    bars = {'OLD Perceptron parameters' : 'C0', 'NEW Perceptron parameters' : 'C1'}\n",
    "    labels = bars.keys()\n",
    "    handles = [plt.Rectangle((0,0),1,1, color=bars[label], ec='k') for label in labels]\n",
    "    axs.axhline(y = 0, color='k', linewidth=0.25);\n",
    "    \n",
    "    axs.legend(handles, labels, loc='best', frameon=False)\n",
    "    \n",
    "    # -- axis labels\n",
    "    axs.set_xlabel('Parameter (weights and bias)', fontsize=14)\n",
    "    axs.set_ylabel('Value',  fontsize=14)\n",
    "    # -- ticks\n",
    "    axs.set_xticks([0.5 + 3*i for i in range(14)]);\n",
    "    xlabels = [f'$w_{ {i+1} }$' for i in range(13)];\n",
    "    xlabels.append('$b$')\n",
    "    axs.set_xticklabels(xlabels);\n",
    "    axs.tick_params(axis='y', labelsize=14)\n",
    "    axs.tick_params(axis='x', labelsize=11)\n"
   ],
   "outputs": [],
   "execution_count": 26
  },
  {
   "cell_type": "code",
   "metadata": {
    "ExecuteTime": {
     "end_time": "2024-11-26T08:32:20.744553Z",
     "start_time": "2024-11-26T08:32:20.377933Z"
    }
   },
   "source": [
    "plot_model_parameters(old_perceptron, new_perceptron)"
   ],
   "outputs": [
    {
     "data": {
      "text/plain": [
       "<Figure size 640x480 with 1 Axes>"
      ],
      "image/png": "[encoded data removed]"
     },
     "metadata": {},
     "output_type": "display_data"
    }
   ],
   "execution_count": 27
  },
  {
   "cell_type": "code",
   "metadata": {
    "ExecuteTime": {
     "end_time": "2024-11-26T08:32:20.786310Z",
     "start_time": "2024-11-26T08:32:20.774624Z"
    }
   },
   "source": [
    "# -- the following is to show that, besides the different parameters, the models will also perform differently on classification task.\n",
    "# -- try both for X_train_scaled and X_test_scaled\n",
    "\n",
    "w_1 = old_perceptron.coef_\n",
    "b_1 = old_perceptron.intercept_\n",
    "w_2 = new_perceptron.coef_\n",
    "b_2 = new_perceptron.intercept_\n",
    "\n",
    "# for each sample in the test set, print out the prediction of both models when they disagree and the index of the sample\n",
    "for i in range(X_test_scaled.shape[0]):\n",
    "    sample = X_test_scaled[i, :]\n",
    "    pred_1 = np.dot(w_1, sample) + b_1\n",
    "    pred_2 = np.dot(w_2, sample) + b_2\n",
    "    if pred_1[0] * pred_2[0] < 0:\n",
    "        print('# Sample index', i)\n",
    "        print('--> Prediction of first model = ', int(np.sign(pred_1)[0]))\n",
    "        print('--> Predicion of second model =  ', int(np.sign(pred_2)[0]))\n",
    "\n",
    "# -- you can see that for training set there are no such misclassified samples (indeed, they both have training error = 0.0)"
   ],
   "outputs": [
    {
     "name": "stdout",
     "output_type": "stream",
     "text": [
      "# Sample index 13\n",
      "--> Prediction of first model =  -1\n",
      "--> Predicion of second model =   1\n",
      "# Sample index 15\n",
      "--> Prediction of first model =  -1\n",
      "--> Predicion of second model =   1\n",
      "# Sample index 16\n",
      "--> Prediction of first model =  -1\n",
      "--> Predicion of second model =   1\n",
      "# Sample index 21\n",
      "--> Prediction of first model =  -1\n",
      "--> Predicion of second model =   1\n",
      "# Sample index 62\n",
      "--> Prediction of first model =  -1\n",
      "--> Predicion of second model =   1\n",
      "# Sample index 69\n",
      "--> Prediction of first model =  -1\n",
      "--> Predicion of second model =   1\n",
      "# Sample index 74\n",
      "--> Prediction of first model =  -1\n",
      "--> Predicion of second model =   1\n",
      "# Sample index 78\n",
      "--> Prediction of first model =  -1\n",
      "--> Predicion of second model =   1\n"
     ]
    }
   ],
   "execution_count": 28
  },
  {
   "cell_type": "markdown",
   "metadata": {},
   "source": [
    "## Impact of normalization\n",
    "\n",
    "Let's try to understand what the impact of scaling data is. Let's learn a model without without normalizing the data."
   ]
  },
  {
   "cell_type": "code",
   "metadata": {
    "tags": [],
    "ExecuteTime": {
     "end_time": "2024-11-26T08:32:20.843806Z",
     "start_time": "2024-11-26T08:32:20.824106Z"
    }
   },
   "source": [
    "# -- let's learn a new model using Perceptron\n",
    "\n",
    "# -- we first define the classifier, fixing the random state for reproducibility\n",
    "perceptron_not_scaled = Perceptron(random_state = IDnumber, tol=1e-3)\n",
    "# -- let's now learn the classifier (i.e., run the perceptron to fix the weights)\n",
    "perceptron_not_scaled.fit(X_train, Y_train)\n",
    "\n",
    "# -- let's print the training error\n",
    "print(f'Training error (not-scaled model): {1.0 - perceptron_not_scaled.score(X_train, Y_train)}')\n",
    "print(f'Training error (scaled model):     {1.0 - old_perceptron.score(X_train_scaled, Y_train)}')\n",
    "\n",
    "print('---')\n",
    "\n",
    "# -- let's print the test error\n",
    "print(f'Test error (not-scaled model): {1.0 - perceptron_not_scaled.score(X_test, Y_test)}')\n",
    "print(f'Test error (scaled model):     {1.0 - old_perceptron.score(X_test_scaled, Y_test)}')\n",
    "\n",
    "print('---')\n",
    "\n",
    "# -- let's print out the features of the model we just learned\n",
    "print(\"NEW MODEL - Coefficients of features:\")\n",
    "print(perceptron_not_scaled.coef_)\n",
    "print(\"PREVIOUS MODEL - Coefficients of features:\")\n",
    "print(old_perceptron.coef_)\n",
    "\n",
    "print(\"NEW MODEL - Bias:\", perceptron_not_scaled.intercept_)\n",
    "print(\"PREVIOUS MODEL - Bias:\", old_perceptron.intercept_)"
   ],
   "outputs": [
    {
     "name": "stdout",
     "output_type": "stream",
     "text": [
      "Training error (not-scaled model): 0.2134831460674157\n",
      "Training error (scaled model):     0.0\n",
      "---\n",
      "Test error (not-scaled model): 0.3033707865168539\n",
      "Test error (scaled model):     0.0449438202247191\n",
      "---\n",
      "NEW MODEL - Coefficients of features:\n",
      "[[ 614.04      -21.94      102.53     1216.3      5211.        138.85\n",
      "   183.85       21.82      175.95     -439.459994  107.886     265.98\n",
      "  -841.      ]]\n",
      "PREVIOUS MODEL - Coefficients of features:\n",
      "[[-4.96848696 -1.74558664 -4.09074263  4.03186637 -1.72682244  0.3485182\n",
      "   2.99148804 -0.34645642  2.28746151 -6.78434457  3.53914454  1.1485614\n",
      "  -6.59931033]]\n",
      "NEW MODEL - Bias: [65.]\n",
      "PREVIOUS MODEL - Bias: [-6.]\n"
     ]
    }
   ],
   "execution_count": 29
  },
  {
   "cell_type": "code",
   "metadata": {
    "scrolled": true,
    "ExecuteTime": {
     "end_time": "2024-11-26T08:32:21.176926Z",
     "start_time": "2024-11-26T08:32:20.889358Z"
    }
   },
   "source": [
    "plot_model_parameters(old_perceptron, perceptron_not_scaled)"
   ],
   "outputs": [
    {
     "data": {
      "text/plain": [
       "<Figure size 640x480 with 1 Axes>"
      ],
      "image/png": "[encoded data removed]"
     },
     "metadata": {},
     "output_type": "display_data"
    }
   ],
   "execution_count": 30
  },
  {
   "cell_type": "markdown",
   "metadata": {},
   "source": [
    "## Impact of number of iterations\n",
    "\n",
    "Let's write the code that performs one epoch at the time, and let' compute the training error after iteration."
   ]
  },
  {
   "cell_type": "code",
   "metadata": {
    "tags": [],
    "ExecuteTime": {
     "end_time": "2024-11-26T08:32:21.380191Z",
     "start_time": "2024-11-26T08:32:21.205837Z"
    }
   },
   "source": [
    "# -- we first define the classifier, fixing the random state for reproducibility\n",
    "# -- the following results in the test error being smaller when the training error is !=0, and training NOT monotonic\n",
    "perceptron_single_iter = Perceptron(random_state = 167*IDnumber)\n",
    "\n",
    "# -- let's now run 1 iteration of perceptron\n",
    "# -- see documentation for partial fit (uses max_iter = 1 = epoch)\n",
    "perceptron_single_iter.partial_fit(X_train_scaled, Y_train, classes = Y_train)\n",
    "\n",
    "# -- let's compute the training error\n",
    "training_error = 1.0 - perceptron_single_iter.score(X_train_scaled, Y_train)\n",
    "# -- let's print the training error\n",
    "print(f\"# Iteration {1:02d} - Training error:\", training_error)\n",
    "# -- let's compute the test error\n",
    "test_error = 1.0 - perceptron_single_iter.score(X_test_scaled, Y_test)\n",
    "# -- let's print the test error\n",
    "print(f\"# Iteration {1:02d} - Test error:\", test_error)\n",
    "\n",
    "# -- let's store the training error and the test error across interations so that we can plot them later on\n",
    "training_error_iters = list()\n",
    "training_error_iters.append(training_error)\n",
    "test_error_iters = list()\n",
    "test_error_iters.append(test_error)\n",
    "\n",
    "# -- let's run for more iterations\n",
    "for i in range(2, 11):\n",
    "    \n",
    "    # -- each time we are providing the model with one additional epoch\n",
    "    perceptron_single_iter.partial_fit(X_train_scaled, Y_train, classes = Y_train)\n",
    "    \n",
    "    # -- let's compute the training error\n",
    "    training_error = 1.0 - perceptron_single_iter.score(X_train_scaled, Y_train)\n",
    "    # -- let's print the training errors\n",
    "    print(f\"# Iteration {i:02d} - Training error:\", training_error)\n",
    "    # -- store training errors\n",
    "    training_error_iters.append(training_error)\n",
    "\n",
    "    # -- let's compute the test error\n",
    "    test_error = 1.0 - perceptron_single_iter.score(X_test_scaled, Y_test)\n",
    "    # -- let's print the training error\n",
    "    print(f\"# Iteration {i:02d} - Test error:\", test_error)\n",
    "    # -- store test errors\n",
    "    test_error_iters.append(test_error)\n",
    "    \n",
    "#let's plot the training error and the test errors across interations\n",
    "x_axis=range(1, len(training_error_iters)+1, 1)\n",
    "plt.plot(x_axis, training_error_iters,'x:');\n",
    "# plt.legend([\"Traninig error\"])\n",
    "plt.plot(x_axis, test_error_iters,'o:');\n",
    "plt.xlabel(\"Iteration\")\n",
    "plt.ylabel(\"Error\")\n",
    "plt.legend([\"Training error\",\"Test error\"]);"
   ],
   "outputs": [
    {
     "name": "stdout",
     "output_type": "stream",
     "text": [
      "# Iteration 01 - Training error: 0.0561797752808989\n",
      "# Iteration 01 - Test error: 0.0898876404494382\n",
      "# Iteration 02 - Training error: 0.0337078651685393\n",
      "# Iteration 02 - Test error: 0.1235955056179775\n",
      "# Iteration 03 - Training error: 0.011235955056179803\n",
      "# Iteration 03 - Test error: 0.0561797752808989\n",
      "# Iteration 04 - Training error: 0.0337078651685393\n",
      "# Iteration 04 - Test error: 0.0449438202247191\n",
      "# Iteration 05 - Training error: 0.0\n",
      "# Iteration 05 - Test error: 0.0561797752808989\n",
      "# Iteration 06 - Training error: 0.0\n",
      "# Iteration 06 - Test error: 0.0561797752808989\n",
      "# Iteration 07 - Training error: 0.0\n",
      "# Iteration 07 - Test error: 0.0561797752808989\n",
      "# Iteration 08 - Training error: 0.0\n",
      "# Iteration 08 - Test error: 0.0561797752808989\n",
      "# Iteration 09 - Training error: 0.0\n",
      "# Iteration 09 - Test error: 0.0561797752808989\n",
      "# Iteration 10 - Training error: 0.0\n",
      "# Iteration 10 - Test error: 0.0561797752808989\n"
     ]
    },
    {
     "data": {
      "text/plain": [
       "<Figure size 640x480 with 1 Axes>"
      ],
      "image/png": "[encoded data removed]"
     },
     "metadata": {},
     "output_type": "display_data"
    }
   ],
   "execution_count": 31
  }
 ],
 "metadata": {
  "anaconda-cloud": {},
  "kernelspec": {
   "display_name": "Python 3 (ipykernel)",
   "language": "python",
   "name": "python3"
  },
  "language_info": {
   "codemirror_mode": {
    "name": "ipython",
    "version": 3
   },
   "file_extension": ".py",
   "mimetype": "text/x-python",
   "name": "python",
   "nbconvert_exporter": "python",
   "pygments_lexer": "ipython3",
   "version": "3.12.6"
  }
 },
 "nbformat": 4,
 "nbformat_minor": 4
}
